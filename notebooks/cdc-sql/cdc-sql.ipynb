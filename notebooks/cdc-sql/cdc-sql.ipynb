{
 "cells": [
  {
   "attachments": {},
   "cell_type": "markdown",
   "id": "a0efb393-2a46-4833-b5cf-8f048d9695b0",
   "metadata": {},
   "source": [
    "<div id=\"singlestore-header\" style=\"display: flex; background-color: rgba(209, 153, 255, 0.25); padding: 5px;\">\n",
    "    <div id=\"icon-image\" style=\"width: 90px; height: 90px;\">\n",
    "        <img width=\"100%\" height=\"100%\" src=\"https://raw.githubusercontent.com/singlestore-labs/spaces-notebooks/master/common/images/header-icons/notes.png\" />\n",
    "    </div>\n",
    "    <div id=\"text\" style=\"padding: 5px; margin-left: 10px;\">\n",
    "        <h1 style=\"font-weight: 500; margin: 8px 0 0 4px;\">Setup CDC Replication from MongoDB® to SingleStore using SQL commands</h1>\n",
    "    </div>\n",
    "</div>"
   ]
  },
  {
   "attachments": {},
   "cell_type": "markdown",
   "id": "6d2bb122-3ae2-4eab-bbbd-3e3ba6907c4b",
   "metadata": {},
   "source": [
    "<table style=\"border: 0; border-spacing: 0; width: 100%; background-color: #03010D\"><tr>\n",
    "    <td style=\"padding: 0; margin: 0; background-color: #03010D; width: 33%; text-align: center\"><img src=\"https://raw.githubusercontent.com/singlestore-labs/spaces-notebooks/master/common/images/singlestore-logo-vertical.png\" style=\"height: 200px;\"/></td>\n",
    "    <td style=\"padding: 0; margin: 0; width: 66%; background-color: #03010D; text-align: right\"><img src=\"https://raw.githubusercontent.com/singlestore-labs/spaces-notebooks/master/notebooks/atlas-and-kai/images/cdc-in-header.png\" style=\"height: 250px\"/></td>\n",
    "</tr></table>"
   ]
  },
  {
   "attachments": {},
   "cell_type": "markdown",
   "id": "1b895f1f-fd94-4cdf-ac4d-abfad66279a3",
   "metadata": {
    "execution": {
     "iopub.execute_input": "2024-02-12T10:51:35.171286Z",
     "iopub.status.busy": "2024-02-12T10:51:35.171026Z",
     "iopub.status.idle": "2024-02-12T10:51:35.300498Z",
     "shell.execute_reply": "2024-02-12T10:51:35.300042Z",
     "shell.execute_reply.started": "2024-02-12T10:51:35.171268Z"
    },
    "language": "sql"
   },
   "source": [
    "## When do you use SingleStore's native replication capability from MongoDB ? \n",
    "\n",
    "SingleStore's native data replication gives you the ability to do one-time snapshot, or continuous change data capture CDC from MongoDB® to SingleStoreDB. This provides a quick and easy way to replicate data and power up analytics on MongoDB® data."
   ]
  },
  {
   "attachments": {},
   "cell_type": "markdown",
   "id": "9e8e1c02-f723-4e0c-88f3-0adb4dc8b0de",
   "metadata": {},
   "source": [
    "## What you will learn in this notebook:\n",
    "\n",
    "Replicate MongoDB® collections to SingleStore\n",
    "1. Directly without transformations\n",
    "2. Flattening required fields into columns of a table\n",
    "3. Normalizing collection into multiple tables \n"
   ]
  },
  {
   "attachments": {},
   "cell_type": "markdown",
   "id": "4ceef3c0-c804-48c3-9ca0-dcb7f5abfe27",
   "metadata": {},
   "source": [
    "## 1. Replicate directly without transformations\n",
    "\n",
    "To replicate the required collections, provide the list of collections using `\"collection.include.list\": \"<Collection list>\"` at the time of link creation, the parameter takes a comma-separated list of regular expressions that match collection names (in databaseName.collectionName format) "
   ]
  },
  {
   "cell_type": "code",
   "execution_count": 238,
   "id": "49145680-6e52-4af7-b3f9-f39c5aebf2e7",
   "metadata": {
    "execution": {
     "iopub.execute_input": "2024-02-13T11:20:22.980839Z",
     "iopub.status.busy": "2024-02-13T11:20:22.980657Z",
     "iopub.status.idle": "2024-02-13T11:20:30.566376Z",
     "shell.execute_reply": "2024-02-13T11:20:30.565871Z",
     "shell.execute_reply.started": "2024-02-13T11:20:22.980821Z"
    },
    "language": "sql",
    "trusted": true
   },
   "outputs": [
    {
     "data": {
      "text/html": "<table>\n    <thead>\n        <tr>\n        </tr>\n    </thead>\n    <tbody>\n    </tbody>\n</table>",
      "text/plain": "++\n||\n++\n++"
     },
     "execution_count": 238,
     "metadata": {},
     "output_type": "execute_result"
    }
   ],
   "source": [
    "%%sql\n",
    "DROP DATABASE IF EXISTS sample_analytics;\n",
    "CREATE DATABASE sample_analytics;"
   ]
  },
  {
   "cell_type": "code",
   "execution_count": 239,
   "id": "a88a0436-9b86-4c34-a4e5-196475049152",
   "metadata": {
    "execution": {
     "iopub.execute_input": "2024-02-13T11:20:52.303643Z",
     "iopub.status.busy": "2024-02-13T11:20:52.303391Z",
     "iopub.status.idle": "2024-02-13T11:20:52.575857Z",
     "shell.execute_reply": "2024-02-13T11:20:52.575363Z",
     "shell.execute_reply.started": "2024-02-13T11:20:52.303626Z"
    },
    "language": "sql",
    "trusted": true
   },
   "outputs": [
    {
     "data": {
      "text/html": "<table>\n    <thead>\n        <tr>\n        </tr>\n    </thead>\n    <tbody>\n    </tbody>\n</table>",
      "text/plain": "++\n||\n++\n++"
     },
     "execution_count": 239,
     "metadata": {},
     "output_type": "execute_result"
    }
   ],
   "source": [
    "%%sql\n",
    "USE sample_analytics;\n",
    "CREATE LINK cdclink as MONGODB\n",
    "CONFIG '{\"mongodb.hosts\":\"ac-t7n47to-shard-00-00.tfutgo0.mongodb.net:27017,ac-t7n47to-shard-00-01.tfutgo0.mongodb.net:27017,ac-t7n47to-shard-00-02.tfutgo0.mongodb.net:27017\",\n",
    "\"collection.include.list\": \"sample_analytics.customers\",\n",
    "\"mongodb.ssl.enabled\":\"true\",\n",
    "\"mongodb.authsource\":\"admin\",\n",
    "\"mongodb.members.auto.discover\": \"true\"    \n",
    "    }'\n",
    "CREDENTIALS '{\n",
    "    \"mongodb.user\":\"mongo_sample_reader\",\n",
    "    \"mongodb.password\":\"SingleStoreRocks27017\"\n",
    "    }'"
   ]
  },
  {
   "attachments": {},
   "cell_type": "markdown",
   "id": "a0301e3b-c447-440b-9e01-dd771ed13408",
   "metadata": {
    "language": "sql"
   },
   "source": [
    "Check if the link got created"
   ]
  },
  {
   "cell_type": "code",
   "execution_count": 242,
   "id": "9cecea80-2b40-49e9-8882-d97ad01e3b0a",
   "metadata": {
    "execution": {
     "iopub.execute_input": "2024-02-13T11:20:58.278282Z",
     "iopub.status.busy": "2024-02-13T11:20:58.278039Z",
     "iopub.status.idle": "2024-02-13T11:20:58.417009Z",
     "shell.execute_reply": "2024-02-13T11:20:58.416424Z",
     "shell.execute_reply.started": "2024-02-13T11:20:58.278266Z"
    },
    "language": "sql",
    "trusted": true
   },
   "outputs": [
    {
     "data": {
      "text/html": "<table>\n    <thead>\n        <tr>\n            <th>Link</th>\n            <th>Type</th>\n            <th>Description</th>\n        </tr>\n    </thead>\n    <tbody>\n        <tr>\n            <td>cdclink</td>\n            <td>MONGODB</td>\n            <td></td>\n        </tr>\n    </tbody>\n</table>",
      "text/plain": "+---------+---------+-------------+\n|   Link  |   Type  | Description |\n+---------+---------+-------------+\n| cdclink | MONGODB |             |\n+---------+---------+-------------+"
     },
     "execution_count": 242,
     "metadata": {},
     "output_type": "execute_result"
    }
   ],
   "source": [
    "%%sql\n",
    "SHOW LINKS on sample_analytics;"
   ]
  },
  {
   "attachments": {},
   "cell_type": "markdown",
   "id": "d757f030-0c5d-4864-aa3d-c8cba84216ce",
   "metadata": {
    "language": "sql"
   },
   "source": [
    "The following step automatically creates the required tables and pipelines on SingleStoreDB for every collection configured for replication"
   ]
  },
  {
   "cell_type": "code",
   "execution_count": 243,
   "id": "356e9f3c-8473-45fa-8918-39c3dfe98403",
   "metadata": {
    "execution": {
     "iopub.execute_input": "2024-02-13T11:21:02.053200Z",
     "iopub.status.busy": "2024-02-13T11:21:02.052851Z",
     "iopub.status.idle": "2024-02-13T11:21:43.545940Z",
     "shell.execute_reply": "2024-02-13T11:21:43.545391Z",
     "shell.execute_reply.started": "2024-02-13T11:21:02.053183Z"
    },
    "language": "sql",
    "trusted": true
   },
   "outputs": [
    {
     "data": {
      "text/html": "<table>\n    <thead>\n        <tr>\n        </tr>\n    </thead>\n    <tbody>\n    </tbody>\n</table>",
      "text/plain": "++\n||\n++\n++"
     },
     "execution_count": 243,
     "metadata": {},
     "output_type": "execute_result"
    }
   ],
   "source": [
    "%%sql\n",
    "USE sample_analytics;\n",
    "CREATE TABLES AS INFER PIPELINE AS LOAD DATA LINK cdclink '*' FORMAT AVRO;"
   ]
  },
  {
   "attachments": {},
   "cell_type": "markdown",
   "id": "6395285d-c68e-49e6-a794-b54f18b53bac",
   "metadata": {
    "language": "sql"
   },
   "source": [
    "Start pipelines to begin replicating the data "
   ]
  },
  {
   "cell_type": "code",
   "execution_count": 250,
   "id": "76795c17-0235-4d21-92be-49c98bfbc5a9",
   "metadata": {
    "execution": {
     "iopub.execute_input": "2024-02-13T11:21:58.140051Z",
     "iopub.status.busy": "2024-02-13T11:21:58.139813Z",
     "iopub.status.idle": "2024-02-13T11:21:58.408187Z",
     "shell.execute_reply": "2024-02-13T11:21:58.407684Z",
     "shell.execute_reply.started": "2024-02-13T11:21:58.140034Z"
    },
    "language": "sql",
    "trusted": true
   },
   "outputs": [
    {
     "data": {
      "text/html": "<table>\n    <thead>\n        <tr>\n        </tr>\n    </thead>\n    <tbody>\n    </tbody>\n</table>",
      "text/plain": "++\n||\n++\n++"
     },
     "execution_count": 250,
     "metadata": {},
     "output_type": "execute_result"
    }
   ],
   "source": [
    "%%sql\n",
    "USE sample_analytics;\n",
    "START ALL PIPELINES;"
   ]
  },
  {
   "cell_type": "code",
   "execution_count": 252,
   "id": "3647b206-7ee6-45d6-9a5c-f0dceabf51e3",
   "metadata": {
    "execution": {
     "iopub.execute_input": "2024-02-13T11:22:15.099207Z",
     "iopub.status.busy": "2024-02-13T11:22:15.098818Z",
     "iopub.status.idle": "2024-02-13T11:22:15.356521Z",
     "shell.execute_reply": "2024-02-13T11:22:15.355894Z",
     "shell.execute_reply.started": "2024-02-13T11:22:15.099189Z"
    },
    "language": "sql",
    "trusted": true
   },
   "outputs": [
    {
     "data": {
      "text/html": "<table>\n    <thead>\n        <tr>\n            <th>Tables_in_sample_analytics</th>\n        </tr>\n    </thead>\n    <tbody>\n        <tr>\n            <td>customers</td>\n        </tr>\n    </tbody>\n</table>",
      "text/plain": "+----------------------------+\n| Tables_in_sample_analytics |\n+----------------------------+\n|         customers          |\n+----------------------------+"
     },
     "execution_count": 252,
     "metadata": {},
     "output_type": "execute_result"
    }
   ],
   "source": [
    "%%sql\n",
    "USE sample_analytics;\n",
    "show tables"
   ]
  },
  {
   "attachments": {},
   "cell_type": "markdown",
   "id": "9f4a5d14-d964-4345-bbea-78a7c8ffa20b",
   "metadata": {
    "language": "sql"
   },
   "source": [
    "The customer collection from MongoDB are replicated into SingleStore in the default format of _id and _more BSON columns that are compatible with Kai API"
   ]
  },
  {
   "cell_type": "code",
   "execution_count": 254,
   "id": "dd29a515-32c3-4079-bcf1-ba6227790082",
   "metadata": {
    "execution": {
     "iopub.execute_input": "2024-02-13T11:22:20.084442Z",
     "iopub.status.busy": "2024-02-13T11:22:20.084069Z",
     "iopub.status.idle": "2024-02-13T11:22:20.403872Z",
     "shell.execute_reply": "2024-02-13T11:22:20.403326Z",
     "shell.execute_reply.started": "2024-02-13T11:22:20.084424Z"
    },
    "language": "sql",
    "scrolled": true,
    "trusted": true
   },
   "outputs": [
    {
     "data": {
      "text/html": "<table>\n    <thead>\n        <tr>\n            <th>(_id :> JSON)</th>\n            <th>(_more :> JSON)</th>\n        </tr>\n    </thead>\n    <tbody>\n        <tr>\n            <td>{'$oid': '5ca4bbcea2dd94ee58162c3f'}</td>\n            <td>{'accounts': [341830, 412203, 240787, 493235, 485840, 167440], 'address': '9808 Miller Mountain Suite 716\\nDanielberg, MD 93803', 'birthdate': {'$date': '1994-07-26T20:23:37.000Z'}, 'email': 'aliciagilbert@yahoo.com', 'name': 'Destiny Miller', 'tier_and_details': {'c389367845644ecb9587a9a28aa60f67': {'active': True, 'benefits': ['sports tickets', 'concierge services'], 'id': 'c389367845644ecb9587a9a28aa60f67', 'tier': 'Bronze'}, 'cf563e54d52c475b9c0e786e281ba57d': {'active': True, 'benefits': ['airline lounge access'], 'id': 'cf563e54d52c475b9c0e786e281ba57d', 'tier': 'Bronze'}}, 'username': 'christophersnyder'}</td>\n        </tr>\n        <tr>\n            <td>{'$oid': '5ca4bbcea2dd94ee58162bd7'}</td>\n            <td>{'accounts': [816225, 501213, 960469, 950785, 344107], 'address': '73451 Thomas Flat Apt. 779\\nWest Davidport, WY 28035', 'birthdate': {'$date': '1970-08-23T02:37:09.000Z'}, 'email': 'jimeneztracey@gmail.com', 'name': 'Jeffrey Reeves', 'tier_and_details': {'b1b5212381ec4d46b86507456c3085b8': {'active': True, 'benefits': ['airline lounge access'], 'id': 'b1b5212381ec4d46b86507456c3085b8', 'tier': 'Platinum'}, 'b3d61f13292a492885f233b8c8ef3415': {'active': True, 'benefits': ['concert tickets', 'financial planning assistance'], 'id': 'b3d61f13292a492885f233b8c8ef3415', 'tier': 'Bronze'}, 'e56b345495034d0684f2b940783fbccc': {'active': True, 'benefits': ['airline lounge access', 'travel insurance'], 'id': 'e56b345495034d0684f2b940783fbccc', 'tier': 'Silver'}}, 'username': 'robin78'}</td>\n        </tr>\n    </tbody>\n</table>",
      "text/plain": "+--------------------------------------+----------------------------------------------------------------------------------------------------------------------------------------------------------------------------------------------------------------------------------------------------------------------------------------------------------------------------------------------------------------------------------------------------------------------------------------------------------------------------------------------------------------------------------------------------------------------------------------------------------------------------------------------------------------------------------------------------------------------------------------------------------------------------------------------------------------------+\n|            (_id :> JSON)             |                                                                                                                                                                                                                                                                                                                                                                                                   (_more :> JSON)                                                                                                                                                                                                                                                                                                                                                                                                    |\n+--------------------------------------+----------------------------------------------------------------------------------------------------------------------------------------------------------------------------------------------------------------------------------------------------------------------------------------------------------------------------------------------------------------------------------------------------------------------------------------------------------------------------------------------------------------------------------------------------------------------------------------------------------------------------------------------------------------------------------------------------------------------------------------------------------------------------------------------------------------------+\n| {'$oid': '5ca4bbcea2dd94ee58162c3f'} |                                                                                     {'accounts': [341830, 412203, 240787, 493235, 485840, 167440], 'address': '9808 Miller Mountain Suite 716\\nDanielberg, MD 93803', 'birthdate': {'$date': '1994-07-26T20:23:37.000Z'}, 'email': 'aliciagilbert@yahoo.com', 'name': 'Destiny Miller', 'tier_and_details': {'c389367845644ecb9587a9a28aa60f67': {'active': True, 'benefits': ['sports tickets', 'concierge services'], 'id': 'c389367845644ecb9587a9a28aa60f67', 'tier': 'Bronze'}, 'cf563e54d52c475b9c0e786e281ba57d': {'active': True, 'benefits': ['airline lounge access'], 'id': 'cf563e54d52c475b9c0e786e281ba57d', 'tier': 'Bronze'}}, 'username': 'christophersnyder'}                                                                                      |\n| {'$oid': '5ca4bbcea2dd94ee58162bd7'} | {'accounts': [816225, 501213, 960469, 950785, 344107], 'address': '73451 Thomas Flat Apt. 779\\nWest Davidport, WY 28035', 'birthdate': {'$date': '1970-08-23T02:37:09.000Z'}, 'email': 'jimeneztracey@gmail.com', 'name': 'Jeffrey Reeves', 'tier_and_details': {'b1b5212381ec4d46b86507456c3085b8': {'active': True, 'benefits': ['airline lounge access'], 'id': 'b1b5212381ec4d46b86507456c3085b8', 'tier': 'Platinum'}, 'b3d61f13292a492885f233b8c8ef3415': {'active': True, 'benefits': ['concert tickets', 'financial planning assistance'], 'id': 'b3d61f13292a492885f233b8c8ef3415', 'tier': 'Bronze'}, 'e56b345495034d0684f2b940783fbccc': {'active': True, 'benefits': ['airline lounge access', 'travel insurance'], 'id': 'e56b345495034d0684f2b940783fbccc', 'tier': 'Silver'}}, 'username': 'robin78'} |\n+--------------------------------------+----------------------------------------------------------------------------------------------------------------------------------------------------------------------------------------------------------------------------------------------------------------------------------------------------------------------------------------------------------------------------------------------------------------------------------------------------------------------------------------------------------------------------------------------------------------------------------------------------------------------------------------------------------------------------------------------------------------------------------------------------------------------------------------------------------------------+"
     },
     "execution_count": 254,
     "metadata": {},
     "output_type": "execute_result"
    }
   ],
   "source": [
    "%%sql\n",
    "USE sample_analytics;\n",
    "select (_id :> JSON),(_more :> JSON) from customers limit 2;"
   ]
  },
  {
   "attachments": {},
   "cell_type": "markdown",
   "id": "ecc76eb3-7bd6-4efe-abcd-8989277daa2d",
   "metadata": {},
   "source": [
    "<div id=\"singlestore-footer\" style=\"background-color: rgba(194, 193, 199, 0.25); height:2px; margin-bottom:10px\"></div>\n",
    "<div><img src=\"https://raw.githubusercontent.com/singlestore-labs/spaces-notebooks/master/common/images/singlestore-logo-grey.png\" style=\"padding: 0px; margin: 0px; height: 24px\"/></div>"
   ]
  },
  {
   "attachments": {},
   "cell_type": "markdown",
   "id": "65811b88-919b-4bef-8601-988e324f383c",
   "metadata": {
    "language": "sql"
   },
   "source": [
    "## 2. Flattening required fields from document into columns\n",
    "CDC replication also gives additional flexibility to define your own table structure at SingleStore as you bring in data from MongoDB collections. In the following examples data from MongoDB collections are transformed when brought to SingleStoreDB"
   ]
  },
  {
   "attachments": {},
   "cell_type": "markdown",
   "id": "7fb1effe-85cf-4900-8600-364367c531a8",
   "metadata": {
    "language": "sql"
   },
   "source": [
    "Fields like `username`, `name`, `email` are flattened into columns of the table and rest of the document is stored in _more column.\n",
    "The following commands create a table, a stored procedure and a pipeline required for the data replication "
   ]
  },
  {
   "cell_type": "code",
   "execution_count": 255,
   "id": "a82364bd-a35a-4b1f-b99d-98837f31a16f",
   "metadata": {
    "execution": {
     "iopub.execute_input": "2024-02-13T11:22:31.570222Z",
     "iopub.status.busy": "2024-02-13T11:22:31.569972Z",
     "iopub.status.idle": "2024-02-13T11:22:31.782673Z",
     "shell.execute_reply": "2024-02-13T11:22:31.781813Z",
     "shell.execute_reply.started": "2024-02-13T11:22:31.570203Z"
    },
    "language": "sql",
    "trusted": true
   },
   "outputs": [
    {
     "data": {
      "text/html": "<table>\n    <thead>\n        <tr>\n        </tr>\n    </thead>\n    <tbody>\n    </tbody>\n</table>",
      "text/plain": "++\n||\n++\n++"
     },
     "execution_count": 255,
     "metadata": {},
     "output_type": "execute_result"
    }
   ],
   "source": [
    "%%sql\n",
    "CREATE TABLE `sample_analytics`.`customers_flattened` (\n",
    "  `_id` bson NOT NULL,\n",
    "  `username` text CHARACTER SET utf8 COLLATE utf8_general_ci,\n",
    "  `name` text CHARACTER SET utf8 COLLATE utf8_general_ci,\n",
    "  `email` text CHARACTER SET utf8 COLLATE utf8_general_ci,\n",
    "  `_more` bson NOT NULL COMMENT 'KAI_MORE' ,\n",
    "  `$_id` as BSON_NORMALIZE_NO_ARRAY(`_id`) PERSISTED longblob COMMENT 'KAI_AUTO' ,\n",
    "  SHARD KEY `__SHARDKEY` (`$_id`),\n",
    "  UNIQUE KEY `__PRIMARY` (`$_id`) USING HASH,\n",
    "  SORT KEY `__UNORDERED` ()\n",
    ") "
   ]
  },
  {
   "cell_type": "code",
   "execution_count": 256,
   "id": "1d4b829a-d2ec-46ee-bdc7-b6bc7bb24176",
   "metadata": {
    "execution": {
     "iopub.execute_input": "2024-02-13T11:22:33.485896Z",
     "iopub.status.busy": "2024-02-13T11:22:33.485649Z",
     "iopub.status.idle": "2024-02-13T11:22:33.633586Z",
     "shell.execute_reply": "2024-02-13T11:22:33.633038Z",
     "shell.execute_reply.started": "2024-02-13T11:22:33.485879Z"
    },
    "language": "sql",
    "trusted": true
   },
   "outputs": [
    {
     "data": {
      "text/html": "<table>\n    <thead>\n        <tr>\n        </tr>\n    </thead>\n    <tbody>\n    </tbody>\n</table>",
      "text/plain": "++\n||\n++\n++"
     },
     "execution_count": 256,
     "metadata": {},
     "output_type": "execute_result"
    }
   ],
   "source": [
    "%%sql\n",
    "CREATE OR REPLACE PROCEDURE `sample_analytics`.`customers_apply_changes`(changes query(`__operation` int(11) NOT NULL, `_id` longblob NOT NULL, `_more` longblob NOT NULL))\n",
    "RETURNS void AS \n",
    "DECLARE rowsDeleted INT;\n",
    "BEGIN REPLACE INTO  `sample_analytics`.`customers_flattened` SELECT `_id`:>BSON AS `_id`, BSON_EXTRACT_STRING(`_more`,'username') AS `username`, BSON_EXTRACT_STRING(`_more`,'name') AS `name`, BSON_EXTRACT_STRING(`_more`,'email') AS `email`,\n",
    "BSON_EXCLUDE_MASK(`_more`,'{\"_id\": 1,\"username\": 1,\"name\": 1,\"email\": 1}') AS `_more`FROM changes WHERE __operation != 1;\n",
    "SELECT count(*) INTO rowsDeleted FROM changes WHERE changes.__operation = 1;\n",
    "IF rowsDeleted > 0 THEN\n",
    "DELETE dest FROM `sample_analytics`.`customers_flattened` AS dest INNER JOIN changes ON dest.`$_id` = BSON_NORMALIZE_NO_ARRAY(changes.`_id`) WHERE changes.__operation = 1; END IF;\n",
    "END;"
   ]
  },
  {
   "cell_type": "code",
   "execution_count": 257,
   "id": "f8ea1ec3-e690-4417-af75-bcde15ada610",
   "metadata": {
    "execution": {
     "iopub.execute_input": "2024-02-13T11:22:35.768567Z",
     "iopub.status.busy": "2024-02-13T11:22:35.768313Z",
     "iopub.status.idle": "2024-02-13T11:22:45.618433Z",
     "shell.execute_reply": "2024-02-13T11:22:45.617868Z",
     "shell.execute_reply.started": "2024-02-13T11:22:35.768551Z"
    },
    "language": "sql",
    "trusted": true
   },
   "outputs": [
    {
     "data": {
      "text/html": "<table>\n    <thead>\n        <tr>\n        </tr>\n    </thead>\n    <tbody>\n    </tbody>\n</table>",
      "text/plain": "++\n||\n++\n++"
     },
     "execution_count": 257,
     "metadata": {},
     "output_type": "execute_result"
    }
   ],
   "source": [
    "%%sql\n",
    "\n",
    "CREATE AGGREGATOR PIPELINE `sample_analytics`.`customers_apply_changes`\n",
    "AS LOAD DATA LINK cdclink 'sample_analytics.customers'\n",
    "BATCH_INTERVAL 2500\n",
    "MAX_PARTITIONS_PER_BATCH 1\n",
    "DISABLE OFFSETS METADATA GC\n",
    "REPLACE\n",
    "KEY(`_id`)\n",
    "INTO PROCEDURE `sample_analytics`.`customers_apply_changes`\n",
    "FORMAT AVRO\n",
    "(\n",
    "    __operation <- `__operation`,\n",
    "    _id <- `payload`::`_id`,\n",
    "    _more <- `payload`::`_more`\n",
    ")"
   ]
  },
  {
   "cell_type": "code",
   "execution_count": 264,
   "id": "ff3a5285-624a-4d36-86e1-85c2ee92c125",
   "metadata": {
    "execution": {
     "iopub.execute_input": "2024-02-13T11:24:14.491080Z",
     "iopub.status.busy": "2024-02-13T11:24:14.490838Z",
     "iopub.status.idle": "2024-02-13T11:24:14.755960Z",
     "shell.execute_reply": "2024-02-13T11:24:14.755378Z",
     "shell.execute_reply.started": "2024-02-13T11:24:14.491065Z"
    },
    "language": "sql",
    "trusted": true
   },
   "outputs": [
    {
     "data": {
      "text/html": "<table>\n    <thead>\n        <tr>\n        </tr>\n    </thead>\n    <tbody>\n    </tbody>\n</table>",
      "text/plain": "++\n||\n++\n++"
     },
     "execution_count": 264,
     "metadata": {},
     "output_type": "execute_result"
    }
   ],
   "source": [
    "%%sql\n",
    "USE sample_analytics;\n",
    "START ALL PIPELINES;"
   ]
  },
  {
   "cell_type": "code",
   "execution_count": 265,
   "id": "327673e2-dffb-46e0-92f7-b2c73ab137ae",
   "metadata": {
    "execution": {
     "iopub.execute_input": "2024-02-13T11:24:23.917016Z",
     "iopub.status.busy": "2024-02-13T11:24:23.916771Z",
     "iopub.status.idle": "2024-02-13T11:24:24.173926Z",
     "shell.execute_reply": "2024-02-13T11:24:24.173372Z",
     "shell.execute_reply.started": "2024-02-13T11:24:23.917000Z"
    },
    "language": "sql",
    "trusted": true
   },
   "outputs": [
    {
     "data": {
      "text/html": "<table>\n    <thead>\n        <tr>\n            <th>Tables_in_sample_analytics</th>\n        </tr>\n    </thead>\n    <tbody>\n        <tr>\n            <td>customers</td>\n        </tr>\n        <tr>\n            <td>customers_flattened</td>\n        </tr>\n    </tbody>\n</table>",
      "text/plain": "+----------------------------+\n| Tables_in_sample_analytics |\n+----------------------------+\n|         customers          |\n|    customers_flattened     |\n+----------------------------+"
     },
     "execution_count": 265,
     "metadata": {},
     "output_type": "execute_result"
    }
   ],
   "source": [
    "%%sql\n",
    "USE sample_analytics;\n",
    "show tables;"
   ]
  },
  {
   "cell_type": "code",
   "execution_count": 267,
   "id": "a5cf5747-55e3-4c13-8c28-34be44b34a4a",
   "metadata": {
    "execution": {
     "iopub.execute_input": "2024-02-13T11:24:26.855827Z",
     "iopub.status.busy": "2024-02-13T11:24:26.855432Z",
     "iopub.status.idle": "2024-02-13T11:24:27.037172Z",
     "shell.execute_reply": "2024-02-13T11:24:27.036672Z",
     "shell.execute_reply.started": "2024-02-13T11:24:26.855807Z"
    },
    "language": "sql",
    "trusted": true
   },
   "outputs": [
    {
     "data": {
      "text/html": "<table>\n    <thead>\n        <tr>\n            <th>_id :> JSON</th>\n            <th>username</th>\n            <th>name</th>\n            <th>email</th>\n            <th>_more :> JSON</th>\n        </tr>\n    </thead>\n    <tbody>\n        <tr>\n            <td>{'$oid': '5ca4bbcea2dd94ee58162c3f'}</td>\n            <td>christophersnyder</td>\n            <td>Destiny Miller</td>\n            <td>aliciagilbert@yahoo.com</td>\n            <td>{'accounts': [341830, 412203, 240787, 493235, 485840, 167440], 'address': '9808 Miller Mountain Suite 716\\nDanielberg, MD 93803', 'birthdate': {'$date': '1994-07-26T20:23:37.000Z'}, 'tier_and_details': {'c389367845644ecb9587a9a28aa60f67': {'active': True, 'benefits': ['sports tickets', 'concierge services'], 'id': 'c389367845644ecb9587a9a28aa60f67', 'tier': 'Bronze'}, 'cf563e54d52c475b9c0e786e281ba57d': {'active': True, 'benefits': ['airline lounge access'], 'id': 'cf563e54d52c475b9c0e786e281ba57d', 'tier': 'Bronze'}}}</td>\n        </tr>\n        <tr>\n            <td>{'$oid': '5ca4bbcea2dd94ee58162bd7'}</td>\n            <td>robin78</td>\n            <td>Jeffrey Reeves</td>\n            <td>jimeneztracey@gmail.com</td>\n            <td>{'accounts': [816225, 501213, 960469, 950785, 344107], 'address': '73451 Thomas Flat Apt. 779\\nWest Davidport, WY 28035', 'birthdate': {'$date': '1970-08-23T02:37:09.000Z'}, 'tier_and_details': {'b1b5212381ec4d46b86507456c3085b8': {'active': True, 'benefits': ['airline lounge access'], 'id': 'b1b5212381ec4d46b86507456c3085b8', 'tier': 'Platinum'}, 'b3d61f13292a492885f233b8c8ef3415': {'active': True, 'benefits': ['concert tickets', 'financial planning assistance'], 'id': 'b3d61f13292a492885f233b8c8ef3415', 'tier': 'Bronze'}, 'e56b345495034d0684f2b940783fbccc': {'active': True, 'benefits': ['airline lounge access', 'travel insurance'], 'id': 'e56b345495034d0684f2b940783fbccc', 'tier': 'Silver'}}}</td>\n        </tr>\n        <tr>\n            <td>{'$oid': '5ca4bbcea2dd94ee58162b94'}</td>\n            <td>karenfarrell</td>\n            <td>Charles Flores</td>\n            <td>rebecca51@hotmail.com</td>\n            <td>{'accounts': [558623, 262488], 'address': '63432 Morton Mills\\nAlexischester, MA 22487', 'birthdate': {'$date': '1972-02-02T09:42:02.000Z'}, 'tier_and_details': {'153755224a544887b611dc046ae8a701': {'active': True, 'benefits': ['concert tickets', 'airline lounge access'], 'id': '153755224a544887b611dc046ae8a701', 'tier': 'Bronze'}, '7842213621354f1e95d98486987c4e67': {'active': True, 'benefits': ['dedicated account representative', '24 hour dedicated line'], 'id': '7842213621354f1e95d98486987c4e67', 'tier': 'Bronze'}, 'b244bc087bba4d4db16826ab3ddabe4d': {'active': True, 'benefits': ['dedicated account representative'], 'id': 'b244bc087bba4d4db16826ab3ddabe4d', 'tier': 'Bronze'}}}</td>\n        </tr>\n        <tr>\n            <td>{'$oid': '5ca4bbcea2dd94ee58162c15'}</td>\n            <td>kathyjones</td>\n            <td>Heather Wilkins</td>\n            <td>paulfrazier@yahoo.com</td>\n            <td>{'accounts': [134905, 734321, 731178, 981821, 229899], 'address': '789 Angela Mission Apt. 351\\nPort Joseph, MA 25115', 'birthdate': {'$date': '1989-03-02T08:42:32.000Z'}, 'tier_and_details': {'6d691fffdf814363aaa0a746645b9681': {'active': True, 'benefits': ['financial planning assistance'], 'id': '6d691fffdf814363aaa0a746645b9681', 'tier': 'Gold'}}}</td>\n        </tr>\n        <tr>\n            <td>{'$oid': '5ca4bbcea2dd94ee58162b98'}</td>\n            <td>dpitts</td>\n            <td>Nicholas Brown</td>\n            <td>steven83@hotmail.com</td>\n            <td>{'accounts': [532811, 701602], 'address': '547 Nunez Crossing\\nPort Williamchester, CT 81646', 'birthdate': {'$date': {'$numberLong': '-82717769000'}}, 'tier_and_details': {}}</td>\n        </tr>\n        <tr>\n            <td>{'$oid': '5ca4bbcea2dd94ee58162bfa'}</td>\n            <td>brenda56</td>\n            <td>Austin Johnson</td>\n            <td>mcguirejennifer@yahoo.com</td>\n            <td>{'accounts': [248380, 244782], 'address': '165 Brittany Green\\nNorth Eric, MN 84627', 'birthdate': {'$date': '1971-06-12T23:52:56.000Z'}, 'tier_and_details': {'0f4bd4b6eb8e46a7a8db87a39f7bca8a': {'active': True, 'benefits': ['concert tickets', 'financial planning assistance'], 'id': '0f4bd4b6eb8e46a7a8db87a39f7bca8a', 'tier': 'Silver'}, 'bc2e9881858a4b21bf201d64b0142072': {'active': True, 'benefits': ['concert tickets', 'airline lounge access'], 'id': 'bc2e9881858a4b21bf201d64b0142072', 'tier': 'Silver'}, 'da555c3a4a15430e8b5377e949c84799': {'active': True, 'benefits': ['24 hour dedicated line', 'sports tickets'], 'id': 'da555c3a4a15430e8b5377e949c84799', 'tier': 'Gold'}}}</td>\n        </tr>\n        <tr>\n            <td>{'$oid': '5ca4bbcea2dd94ee58162b5f'}</td>\n            <td>madeline96</td>\n            <td>Phillip Molina</td>\n            <td>steven93@gmail.com</td>\n            <td>{'accounts': [924182, 700899, 226865, 604215, 300405, 980056], 'address': '0101 Brown Grove Apt. 002\\nCastilloville, MN 23427', 'birthdate': {'$date': '1976-04-03T23:19:19.000Z'}, 'tier_and_details': {}}</td>\n        </tr>\n        <tr>\n            <td>{'$oid': '5ca4bbcea2dd94ee58162bca'}</td>\n            <td>roconnor</td>\n            <td>Robert Obrien</td>\n            <td>sfreeman@gmail.com</td>\n            <td>{'accounts': [497929], 'address': '9800 Camacho Lane\\nSouth Benjaminburgh, WV 39265', 'birthdate': {'$date': '1989-05-13T18:18:25.000Z'}, 'tier_and_details': {}}</td>\n        </tr>\n        <tr>\n            <td>{'$oid': '5ca4bbcea2dd94ee58162c51'}</td>\n            <td>jacksoncolleen</td>\n            <td>Susan Davis</td>\n            <td>mmurray@hotmail.com</td>\n            <td>{'accounts': [657218, 517824, 880595, 278669, 380304, 688134], 'address': '335 Lewis Land\\nLake Johnburgh, RI 57620', 'birthdate': {'$date': '1994-04-25T14:59:48.000Z'}, 'tier_and_details': {}}</td>\n        </tr>\n        <tr>\n            <td>{'$oid': '5ca4bbcea2dd94ee58162b00'}</td>\n            <td>marccolon</td>\n            <td>Sarah Lowery</td>\n            <td>gomeztonya@hotmail.com</td>\n            <td>{'accounts': [85228, 404845, 155327], 'address': '6599 Martin Roads Apt. 624\\nKatherinestad, SD 60790', 'birthdate': {'$date': '1983-04-27T14:48:21.000Z'}, 'tier_and_details': {'35f3364970214bb786b79b592b4d39b8': {'active': True, 'benefits': ['dedicated account representative', 'travel insurance'], 'id': '35f3364970214bb786b79b592b4d39b8', 'tier': 'Bronze'}}}</td>\n        </tr>\n    </tbody>\n</table>",
      "text/plain": "+--------------------------------------+-------------------+-----------------+---------------------------+---------------------------------------------------------------------------------------------------------------------------------------------------------------------------------------------------------------------------------------------------------------------------------------------------------------------------------------------------------------------------------------------------------------------------------------------------------------------------------------------------------------------------------------------------------------------------------------------------------------------------------------------------------------------------------------------------------------------------------+\n|             _id :> JSON              |      username     |       name      |           email           |                                                                                                                                                                                                                                                                                                                                                          _more :> JSON                                                                                                                                                                                                                                                                                                                                                          |\n+--------------------------------------+-------------------+-----------------+---------------------------+---------------------------------------------------------------------------------------------------------------------------------------------------------------------------------------------------------------------------------------------------------------------------------------------------------------------------------------------------------------------------------------------------------------------------------------------------------------------------------------------------------------------------------------------------------------------------------------------------------------------------------------------------------------------------------------------------------------------------------+\n| {'$oid': '5ca4bbcea2dd94ee58162c3f'} | christophersnyder |  Destiny Miller |  aliciagilbert@yahoo.com  |                                                                                           {'accounts': [341830, 412203, 240787, 493235, 485840, 167440], 'address': '9808 Miller Mountain Suite 716\\nDanielberg, MD 93803', 'birthdate': {'$date': '1994-07-26T20:23:37.000Z'}, 'tier_and_details': {'c389367845644ecb9587a9a28aa60f67': {'active': True, 'benefits': ['sports tickets', 'concierge services'], 'id': 'c389367845644ecb9587a9a28aa60f67', 'tier': 'Bronze'}, 'cf563e54d52c475b9c0e786e281ba57d': {'active': True, 'benefits': ['airline lounge access'], 'id': 'cf563e54d52c475b9c0e786e281ba57d', 'tier': 'Bronze'}}}                                                                                          |\n| {'$oid': '5ca4bbcea2dd94ee58162bd7'} |      robin78      |  Jeffrey Reeves |  jimeneztracey@gmail.com  | {'accounts': [816225, 501213, 960469, 950785, 344107], 'address': '73451 Thomas Flat Apt. 779\\nWest Davidport, WY 28035', 'birthdate': {'$date': '1970-08-23T02:37:09.000Z'}, 'tier_and_details': {'b1b5212381ec4d46b86507456c3085b8': {'active': True, 'benefits': ['airline lounge access'], 'id': 'b1b5212381ec4d46b86507456c3085b8', 'tier': 'Platinum'}, 'b3d61f13292a492885f233b8c8ef3415': {'active': True, 'benefits': ['concert tickets', 'financial planning assistance'], 'id': 'b3d61f13292a492885f233b8c8ef3415', 'tier': 'Bronze'}, 'e56b345495034d0684f2b940783fbccc': {'active': True, 'benefits': ['airline lounge access', 'travel insurance'], 'id': 'e56b345495034d0684f2b940783fbccc', 'tier': 'Silver'}}} |\n| {'$oid': '5ca4bbcea2dd94ee58162b94'} |    karenfarrell   |  Charles Flores |   rebecca51@hotmail.com   |         {'accounts': [558623, 262488], 'address': '63432 Morton Mills\\nAlexischester, MA 22487', 'birthdate': {'$date': '1972-02-02T09:42:02.000Z'}, 'tier_and_details': {'153755224a544887b611dc046ae8a701': {'active': True, 'benefits': ['concert tickets', 'airline lounge access'], 'id': '153755224a544887b611dc046ae8a701', 'tier': 'Bronze'}, '7842213621354f1e95d98486987c4e67': {'active': True, 'benefits': ['dedicated account representative', '24 hour dedicated line'], 'id': '7842213621354f1e95d98486987c4e67', 'tier': 'Bronze'}, 'b244bc087bba4d4db16826ab3ddabe4d': {'active': True, 'benefits': ['dedicated account representative'], 'id': 'b244bc087bba4d4db16826ab3ddabe4d', 'tier': 'Bronze'}}}        |\n| {'$oid': '5ca4bbcea2dd94ee58162c15'} |     kathyjones    | Heather Wilkins |   paulfrazier@yahoo.com   |                                                                                                                                                                                 {'accounts': [134905, 734321, 731178, 981821, 229899], 'address': '789 Angela Mission Apt. 351\\nPort Joseph, MA 25115', 'birthdate': {'$date': '1989-03-02T08:42:32.000Z'}, 'tier_and_details': {'6d691fffdf814363aaa0a746645b9681': {'active': True, 'benefits': ['financial planning assistance'], 'id': '6d691fffdf814363aaa0a746645b9681', 'tier': 'Gold'}}}                                                                                                                                                                                |\n| {'$oid': '5ca4bbcea2dd94ee58162b98'} |       dpitts      |  Nicholas Brown |    steven83@hotmail.com   |                                                                                                                                                                                                                                                                         {'accounts': [532811, 701602], 'address': '547 Nunez Crossing\\nPort Williamchester, CT 81646', 'birthdate': {'$date': {'$numberLong': '-82717769000'}}, 'tier_and_details': {}}                                                                                                                                                                                                                                                                         |\n| {'$oid': '5ca4bbcea2dd94ee58162bfa'} |      brenda56     |  Austin Johnson | mcguirejennifer@yahoo.com |            {'accounts': [248380, 244782], 'address': '165 Brittany Green\\nNorth Eric, MN 84627', 'birthdate': {'$date': '1971-06-12T23:52:56.000Z'}, 'tier_and_details': {'0f4bd4b6eb8e46a7a8db87a39f7bca8a': {'active': True, 'benefits': ['concert tickets', 'financial planning assistance'], 'id': '0f4bd4b6eb8e46a7a8db87a39f7bca8a', 'tier': 'Silver'}, 'bc2e9881858a4b21bf201d64b0142072': {'active': True, 'benefits': ['concert tickets', 'airline lounge access'], 'id': 'bc2e9881858a4b21bf201d64b0142072', 'tier': 'Silver'}, 'da555c3a4a15430e8b5377e949c84799': {'active': True, 'benefits': ['24 hour dedicated line', 'sports tickets'], 'id': 'da555c3a4a15430e8b5377e949c84799', 'tier': 'Gold'}}}            |\n| {'$oid': '5ca4bbcea2dd94ee58162b5f'} |     madeline96    |  Phillip Molina |     steven93@gmail.com    |                                                                                                                                                                                                                                                           {'accounts': [924182, 700899, 226865, 604215, 300405, 980056], 'address': '0101 Brown Grove Apt. 002\\nCastilloville, MN 23427', 'birthdate': {'$date': '1976-04-03T23:19:19.000Z'}, 'tier_and_details': {}}                                                                                                                                                                                                                                                           |\n| {'$oid': '5ca4bbcea2dd94ee58162bca'} |      roconnor     |  Robert Obrien  |     sfreeman@gmail.com    |                                                                                                                                                                                                                                                                                {'accounts': [497929], 'address': '9800 Camacho Lane\\nSouth Benjaminburgh, WV 39265', 'birthdate': {'$date': '1989-05-13T18:18:25.000Z'}, 'tier_and_details': {}}                                                                                                                                                                                                                                                                                |\n| {'$oid': '5ca4bbcea2dd94ee58162c51'} |   jacksoncolleen  |   Susan Davis   |    mmurray@hotmail.com    |                                                                                                                                                                                                                                                                {'accounts': [657218, 517824, 880595, 278669, 380304, 688134], 'address': '335 Lewis Land\\nLake Johnburgh, RI 57620', 'birthdate': {'$date': '1994-04-25T14:59:48.000Z'}, 'tier_and_details': {}}                                                                                                                                                                                                                                                                |\n| {'$oid': '5ca4bbcea2dd94ee58162b00'} |     marccolon     |   Sarah Lowery  |   gomeztonya@hotmail.com  |                                                                                                                                                                            {'accounts': [85228, 404845, 155327], 'address': '6599 Martin Roads Apt. 624\\nKatherinestad, SD 60790', 'birthdate': {'$date': '1983-04-27T14:48:21.000Z'}, 'tier_and_details': {'35f3364970214bb786b79b592b4d39b8': {'active': True, 'benefits': ['dedicated account representative', 'travel insurance'], 'id': '35f3364970214bb786b79b592b4d39b8', 'tier': 'Bronze'}}}                                                                                                                                                                            |\n+--------------------------------------+-------------------+-----------------+---------------------------+---------------------------------------------------------------------------------------------------------------------------------------------------------------------------------------------------------------------------------------------------------------------------------------------------------------------------------------------------------------------------------------------------------------------------------------------------------------------------------------------------------------------------------------------------------------------------------------------------------------------------------------------------------------------------------------------------------------------------------+"
     },
     "execution_count": 267,
     "metadata": {},
     "output_type": "execute_result"
    }
   ],
   "source": [
    "%%sql\n",
    "Select _id :> JSON,username, name, email, _more :> JSON from sample_analytics.customers_flattened limit 10;"
   ]
  },
  {
   "attachments": {},
   "cell_type": "markdown",
   "id": "53a66a38-ddbe-44a7-b768-848793353639",
   "metadata": {
    "language": "sql"
   },
   "source": [
    "## 3. Normalize a collection into multiple tables \n",
    "In the following example a collection of MongoDB is normalized into two different tables on SingleStore."
   ]
  },
  {
   "cell_type": "code",
   "execution_count": 88,
   "id": "57f1594c-aec8-48a5-b0eb-c4574e711276",
   "metadata": {
    "execution": {
     "iopub.execute_input": "2024-02-13T12:47:27.716402Z",
     "iopub.status.busy": "2024-02-13T12:47:27.716090Z",
     "iopub.status.idle": "2024-02-13T12:47:28.893936Z",
     "shell.execute_reply": "2024-02-13T12:47:28.893257Z",
     "shell.execute_reply.started": "2024-02-13T12:47:27.716377Z"
    },
    "language": "sql",
    "trusted": true
   },
   "outputs": [
    {
     "data": {
      "text/html": "<table>\n    <thead>\n        <tr>\n        </tr>\n    </thead>\n    <tbody>\n    </tbody>\n</table>",
      "text/plain": "++\n||\n++\n++"
     },
     "execution_count": 88,
     "metadata": {},
     "output_type": "execute_result"
    }
   ],
   "source": [
    "%%sql\n",
    "DROP DATABASE IF EXISTS sample_airbnb;"
   ]
  },
  {
   "cell_type": "code",
   "execution_count": 89,
   "id": "58bb1e07-6cb2-40d4-a0a6-8a95c1f20b82",
   "metadata": {
    "execution": {
     "iopub.execute_input": "2024-02-13T12:47:30.544418Z",
     "iopub.status.busy": "2024-02-13T12:47:30.543981Z",
     "iopub.status.idle": "2024-02-13T12:47:36.705111Z",
     "shell.execute_reply": "2024-02-13T12:47:36.704519Z",
     "shell.execute_reply.started": "2024-02-13T12:47:30.544394Z"
    },
    "language": "sql",
    "trusted": true
   },
   "outputs": [
    {
     "data": {
      "text/html": "<table>\n    <thead>\n        <tr>\n        </tr>\n    </thead>\n    <tbody>\n    </tbody>\n</table>",
      "text/plain": "++\n||\n++\n++"
     },
     "execution_count": 89,
     "metadata": {},
     "output_type": "execute_result"
    }
   ],
   "source": [
    "%%sql\n",
    "CREATE DATABASE sample_airbnb;"
   ]
  },
  {
   "cell_type": "code",
   "execution_count": 90,
   "id": "48fa8228-4a39-4553-a535-981b4a42a0a1",
   "metadata": {
    "execution": {
     "iopub.execute_input": "2024-02-13T12:47:40.672956Z",
     "iopub.status.busy": "2024-02-13T12:47:40.672711Z",
     "iopub.status.idle": "2024-02-13T12:47:40.946267Z",
     "shell.execute_reply": "2024-02-13T12:47:40.945651Z",
     "shell.execute_reply.started": "2024-02-13T12:47:40.672940Z"
    },
    "language": "sql",
    "trusted": true
   },
   "outputs": [
    {
     "data": {
      "text/html": "<table>\n    <thead>\n        <tr>\n        </tr>\n    </thead>\n    <tbody>\n    </tbody>\n</table>",
      "text/plain": "++\n||\n++\n++"
     },
     "execution_count": 90,
     "metadata": {},
     "output_type": "execute_result"
    }
   ],
   "source": [
    "%%sql\n",
    "use sample_airbnb;\n",
    "CREATE LINK source_listingsAndReviews as MONGODB\n",
    "CONFIG '{\"mongodb.hosts\":\"ac-t7n47to-shard-00-00.tfutgo0.mongodb.net:27017,ac-t7n47to-shard-00-01.tfutgo0.mongodb.net:27017,ac-t7n47to-shard-00-02.tfutgo0.mongodb.net:27017\",\n",
    "\"collection.include.list\": \"sample_airbnb.*\",\n",
    "\"mongodb.ssl.enabled\":\"true\",\n",
    "\"mongodb.authsource\":\"admin\",\n",
    "\"mongodb.members.auto.discover\": \"true\"    \n",
    "    }'\n",
    "CREDENTIALS '{\n",
    "    \"mongodb.user\":\"mongo_sample_reader\",\n",
    "    \"mongodb.password\":\"SingleStoreRocks27017\"\n",
    "    }'"
   ]
  },
  {
   "cell_type": "code",
   "execution_count": 91,
   "id": "87580303-6afc-4855-966f-d6a9b8289c2b",
   "metadata": {
    "execution": {
     "iopub.execute_input": "2024-02-13T12:47:42.309133Z",
     "iopub.status.busy": "2024-02-13T12:47:42.308796Z",
     "iopub.status.idle": "2024-02-13T12:47:42.441396Z",
     "shell.execute_reply": "2024-02-13T12:47:42.440757Z",
     "shell.execute_reply.started": "2024-02-13T12:47:42.309114Z"
    },
    "language": "sql",
    "trusted": true
   },
   "outputs": [
    {
     "data": {
      "text/html": "<table>\n    <thead>\n        <tr>\n            <th>Link</th>\n            <th>Type</th>\n            <th>Description</th>\n        </tr>\n    </thead>\n    <tbody>\n        <tr>\n            <td>source_listingsAndReviews</td>\n            <td>MONGODB</td>\n            <td></td>\n        </tr>\n    </tbody>\n</table>",
      "text/plain": "+---------------------------+---------+-------------+\n|            Link           |   Type  | Description |\n+---------------------------+---------+-------------+\n| source_listingsAndReviews | MONGODB |             |\n+---------------------------+---------+-------------+"
     },
     "execution_count": 91,
     "metadata": {},
     "output_type": "execute_result"
    }
   ],
   "source": [
    "%%sql\n",
    "show LINKS on sample_airbnb;"
   ]
  },
  {
   "cell_type": "code",
   "execution_count": 92,
   "id": "16a917d3-0515-499c-a019-5ac889ca7a37",
   "metadata": {
    "execution": {
     "iopub.execute_input": "2024-02-13T12:47:43.623986Z",
     "iopub.status.busy": "2024-02-13T12:47:43.623665Z",
     "iopub.status.idle": "2024-02-13T12:47:43.857478Z",
     "shell.execute_reply": "2024-02-13T12:47:43.856883Z",
     "shell.execute_reply.started": "2024-02-13T12:47:43.623965Z"
    },
    "language": "sql",
    "trusted": true
   },
   "outputs": [
    {
     "data": {
      "text/html": "<table>\n    <thead>\n        <tr>\n        </tr>\n    </thead>\n    <tbody>\n    </tbody>\n</table>",
      "text/plain": "++\n||\n++\n++"
     },
     "execution_count": 92,
     "metadata": {},
     "output_type": "execute_result"
    }
   ],
   "source": [
    "%%sql\n",
    "CREATE TABLE `sample_airbnb`.`listings` (\n",
    "  `_id` BSON NOT NULL,\n",
    "  `name` text CHARACTER SET utf8 COLLATE utf8_general_ci,\n",
    "  `access` text CHARACTER SET utf8 COLLATE utf8_general_ci,\n",
    "  `accommodates` int(11) DEFAULT NULL,\n",
    "  `_more` BSON NOT NULL,\n",
    "  `$_id` as BSON_NORMALIZE_NO_ARRAY(`_id`) PERSISTED longblob,\n",
    "  SHARD KEY `__SHARDKEY` (`$_id`),\n",
    "  UNIQUE KEY `__PRIMARY` (`$_id`) USING HASH,\n",
    "  SORT KEY `__UNORDERED` ()\n",
    ") "
   ]
  },
  {
   "cell_type": "code",
   "execution_count": 93,
   "id": "609e6fe7-194a-48eb-a55e-a9b49b6180f6",
   "metadata": {
    "execution": {
     "iopub.execute_input": "2024-02-13T12:47:44.923132Z",
     "iopub.status.busy": "2024-02-13T12:47:44.922573Z",
     "iopub.status.idle": "2024-02-13T12:47:45.140166Z",
     "shell.execute_reply": "2024-02-13T12:47:45.139043Z",
     "shell.execute_reply.started": "2024-02-13T12:47:44.923109Z"
    },
    "language": "sql",
    "trusted": true
   },
   "outputs": [
    {
     "data": {
      "text/html": "<table>\n    <thead>\n        <tr>\n        </tr>\n    </thead>\n    <tbody>\n    </tbody>\n</table>",
      "text/plain": "++\n||\n++\n++"
     },
     "execution_count": 93,
     "metadata": {},
     "output_type": "execute_result"
    }
   ],
   "source": [
    "%%sql\n",
    "CREATE TABLE `sample_airbnb`.`Reviews` (\n",
    "  `listingid` BSON NOT NULL,\n",
    "  `review_scores_accuracy` int(11) DEFAULT NULL,\n",
    "  `review_scores_cleanliness` int(11) DEFAULT NULL,\n",
    "  `review_scores_rating` text CHARACTER SET utf8 COLLATE utf8_general_ci,\n",
    "  `$listingid` as BSON_NORMALIZE_NO_ARRAY(`listingid`) PERSISTED longblob,\n",
    "  SHARD KEY `__SHARDKEY` (`$listingid`),\n",
    "  UNIQUE KEY `__PRIMARY` (`$listingid`) USING HASH,\n",
    "  SORT KEY `__UNORDERED` ()\n",
    ") "
   ]
  },
  {
   "cell_type": "code",
   "execution_count": 95,
   "id": "1029b248-a926-4e04-8071-ca7353ed7f4d",
   "metadata": {
    "execution": {
     "iopub.execute_input": "2024-02-13T12:47:46.954725Z",
     "iopub.status.busy": "2024-02-13T12:47:46.954380Z",
     "iopub.status.idle": "2024-02-13T12:47:47.101793Z",
     "shell.execute_reply": "2024-02-13T12:47:47.101333Z",
     "shell.execute_reply.started": "2024-02-13T12:47:46.954704Z"
    },
    "language": "sql",
    "trusted": true
   },
   "outputs": [
    {
     "data": {
      "text/html": "<table>\n    <thead>\n        <tr>\n        </tr>\n    </thead>\n    <tbody>\n    </tbody>\n</table>",
      "text/plain": "++\n||\n++\n++"
     },
     "execution_count": 95,
     "metadata": {},
     "output_type": "execute_result"
    }
   ],
   "source": [
    "%%sql\n",
    "CREATE OR REPLACE PROCEDURE `sample_airbnb`.`listingsAndReviews_apply_changes`(changes query(`__operation` int(11) NOT NULL, `_id` longblob NOT NULL, `_more` longblob NOT NULL))\n",
    "RETURNS void AS \n",
    "DECLARE rowsDeleted INT;\n",
    "BEGIN \n",
    "    \n",
    "REPLACE INTO  `sample_airbnb`.`listings` SELECT `_id`:>BSON AS `_id`, BSON_EXTRACT_STRING(`_more`,'name') AS `name`, BSON_EXTRACT_STRING(`_more`,'access') AS `access`,\n",
    "BSON_EXTRACT_BIGINT(`_more`,'accommodates') AS `accommodates`, BSON_EXCLUDE_MASK(`_more`,'{\"_id\": 1,\"name\": 1,\"review_scores\": 1,\"access\" : 1, \"accommodates\" : 1}') AS `_more`\n",
    "FROM changes WHERE __operation != 1;\n",
    "\n",
    "REPLACE INTO  `sample_airbnb`.`Reviews` SELECT `_id`:>BSON AS `listingid`, BSON_EXTRACT_BIGINT(`_more`,'review_scores','review_scores_accuracy') AS `review_scores_accuracy`,\n",
    "BSON_EXTRACT_BIGINT(`_more`,'review_scores','review_scores_cleanliness') AS `review_scores_cleanliness`, BSON_EXTRACT_BIGINT(`_more`,'review_scores','review_scores_rating') AS `review_scores_rating`\n",
    "FROM changes WHERE __operation != 1;\n",
    "\n",
    "SELECT count(*) INTO rowsDeleted FROM changes WHERE changes.__operation = 1;\n",
    "IF rowsDeleted > 0 THEN\n",
    "DELETE dest FROM `sample_airbnb`.`listings` AS dest INNER JOIN changes ON dest.`$_id` = BSON_NORMALIZE_NO_ARRAY(changes.`_id`) WHERE changes.__operation = 1; \n",
    "DELETE dest FROM `sample_airbnb`.`Reviews` AS dest INNER JOIN changes ON dest.`$listingid` = BSON_NORMALIZE_NO_ARRAY(changes.`_id`) WHERE changes.__operation = 1; \n",
    "END IF;\n",
    "\n",
    "END;"
   ]
  },
  {
   "cell_type": "code",
   "execution_count": 96,
   "id": "e6bfa806-0f4f-4953-9580-6a6f345811e3",
   "metadata": {
    "execution": {
     "iopub.execute_input": "2024-02-13T12:47:49.393536Z",
     "iopub.status.busy": "2024-02-13T12:47:49.393286Z",
     "iopub.status.idle": "2024-02-13T12:47:53.721623Z",
     "shell.execute_reply": "2024-02-13T12:47:53.721046Z",
     "shell.execute_reply.started": "2024-02-13T12:47:49.393519Z"
    },
    "language": "sql",
    "trusted": true
   },
   "outputs": [
    {
     "data": {
      "text/html": "<table>\n    <thead>\n        <tr>\n        </tr>\n    </thead>\n    <tbody>\n    </tbody>\n</table>",
      "text/plain": "++\n||\n++\n++"
     },
     "execution_count": 96,
     "metadata": {},
     "output_type": "execute_result"
    }
   ],
   "source": [
    "%%sql\n",
    "CREATE AGGREGATOR PIPELINE `sample_airbnb`.`listingsAndReviews`\n",
    "AS LOAD DATA LINK source_listingsAndReviews 'sample_airbnb.listingsAndReviews'\n",
    "BATCH_INTERVAL 2500\n",
    "MAX_PARTITIONS_PER_BATCH 1\n",
    "DISABLE OFFSETS METADATA GC\n",
    "REPLACE\n",
    "KEY(`_id`)\n",
    "INTO PROCEDURE `sample_airbnb`.`listingsAndReviews_apply_changes`\n",
    "FORMAT AVRO\n",
    "(\n",
    "    __operation <- `__operation`,\n",
    "    _id <- `payload`::`_id`,\n",
    "    _more <- `payload`::`_more`\n",
    ")"
   ]
  },
  {
   "cell_type": "code",
   "execution_count": 97,
   "id": "255a27a9-96d6-4cbb-bed8-7c48612c82da",
   "metadata": {
    "execution": {
     "iopub.execute_input": "2024-02-13T12:47:54.914176Z",
     "iopub.status.busy": "2024-02-13T12:47:54.913824Z",
     "iopub.status.idle": "2024-02-13T12:47:55.165186Z",
     "shell.execute_reply": "2024-02-13T12:47:55.164426Z",
     "shell.execute_reply.started": "2024-02-13T12:47:54.914157Z"
    },
    "language": "sql",
    "trusted": true
   },
   "outputs": [
    {
     "data": {
      "text/html": "<table>\n    <thead>\n        <tr>\n        </tr>\n    </thead>\n    <tbody>\n    </tbody>\n</table>",
      "text/plain": "++\n||\n++\n++"
     },
     "execution_count": 97,
     "metadata": {},
     "output_type": "execute_result"
    }
   ],
   "source": [
    "%%sql\n",
    "Use sample_airbnb;\n",
    "START ALL PIPELINES;"
   ]
  },
  {
   "cell_type": "code",
   "execution_count": 98,
   "id": "6e23b185-1997-4749-be4c-66612672cb42",
   "metadata": {
    "execution": {
     "iopub.execute_input": "2024-02-13T12:47:56.646219Z",
     "iopub.status.busy": "2024-02-13T12:47:56.645979Z",
     "iopub.status.idle": "2024-02-13T12:47:56.768800Z",
     "shell.execute_reply": "2024-02-13T12:47:56.768116Z",
     "shell.execute_reply.started": "2024-02-13T12:47:56.646203Z"
    },
    "language": "sql",
    "trusted": true
   },
   "outputs": [
    {
     "data": {
      "text/html": "<table>\n    <thead>\n        <tr>\n            <th>Tables_in_sample_airbnb</th>\n        </tr>\n    </thead>\n    <tbody>\n        <tr>\n            <td>Reviews</td>\n        </tr>\n        <tr>\n            <td>listings</td>\n        </tr>\n    </tbody>\n</table>",
      "text/plain": "+-------------------------+\n| Tables_in_sample_airbnb |\n+-------------------------+\n|         Reviews         |\n|         listings        |\n+-------------------------+"
     },
     "execution_count": 98,
     "metadata": {},
     "output_type": "execute_result"
    }
   ],
   "source": [
    "%%sql\n",
    "using sample_airbnb show tables;"
   ]
  },
  {
   "cell_type": "code",
   "execution_count": 100,
   "id": "64cb77e2-f82b-4147-b632-13f3b944ce8f",
   "metadata": {
    "execution": {
     "iopub.execute_input": "2024-02-13T12:47:57.929678Z",
     "iopub.status.busy": "2024-02-13T12:47:57.929306Z",
     "iopub.status.idle": "2024-02-13T12:47:58.146763Z",
     "shell.execute_reply": "2024-02-13T12:47:58.146272Z",
     "shell.execute_reply.started": "2024-02-13T12:47:57.929659Z"
    },
    "language": "sql",
    "trusted": true
   },
   "outputs": [
    {
     "data": {
      "text/html": "<table>\n    <thead>\n        <tr>\n            <th>_id:>JSON</th>\n            <th>name</th>\n            <th>access</th>\n            <th>accommodates</th>\n        </tr>\n    </thead>\n    <tbody>\n        <tr>\n            <td>10084023</td>\n            <td>City center private room with bed</td>\n            <td>Living Room , Kitchen and Toilet, All cooking equipment can be used too</td>\n            <td>1</td>\n        </tr>\n        <tr>\n            <td>10527243</td>\n            <td>Tropical Jungle Oasis</td>\n            <td></td>\n            <td>4</td>\n        </tr>\n        <tr>\n            <td>10992286</td>\n            <td>Holoholo Inn: Rain Forest (Priv-2)</td>\n            <td>Guest access to: Common Room with TV; Full Kitchen; Free WiFi.</td>\n            <td>2</td>\n        </tr>\n        <tr>\n            <td>1176693</td>\n            <td>BEST REVIEWS*BEST MALLS*SAFE STAY*DIMSUM*CWB*MTR</td>\n            <td>The entire apartment with all amenities is accessible for my guests. All closets are empty but full of hangers, you will find toiletries and hair dryers in the bathrooms. the kitchen is fully equipped with pots, pans, china, glasses and cutlery. Basics like tea, coffee, water, milk, and capsules for the Nespresso Machine are provided to make sure your arrival will be relaxed. Detergents for washing machine and dish washer are provided for a stay of 3 nights. My stand-by guest manager will happily provide more supplies on request for small additional costs.</td>\n            <td>8</td>\n        </tr>\n        <tr>\n            <td>12552675</td>\n            <td>The Porto Concierge - White Martin</td>\n            <td>Guests have access to all the amenities of the apartment.</td>\n            <td>3</td>\n        </tr>\n        <tr>\n            <td>11007058</td>\n            <td>Alcam Colón 42 Apartment</td>\n            <td></td>\n            <td>4</td>\n        </tr>\n        <tr>\n            <td>12183522</td>\n            <td>so homey and spacious and comfy room!</td>\n            <td>Easy access to public transport, main road is just across to where building is located. Car park is also available, on hourly to day rate.</td>\n            <td>3</td>\n        </tr>\n        <tr>\n            <td>11567997</td>\n            <td>The Local Nook // Cozy Kona Hale</td>\n            <td>The main entrance is to the right through the white gate in front of your parking stall. We ask that guest please enter this way to give our parents and yourselves some extra privacy, though there is another entry door to the left in front of the main house entrance.</td>\n            <td>2</td>\n        </tr>\n        <tr>\n            <td>13488308</td>\n            <td>Spacious & Cosy 1BR apt in Gramercy with balcony!</td>\n            <td>Guests are provided complete privacy for the duration of their stay, however, in order to ensure a superior guest experience, I am available to address your needs 24 hours a day 7 days a week. If you have a question or concern, I encourage you to contact me by message. I am dedicated to making your stay the best possible, and I am happy to address your needs, whatever they may be.</td>\n            <td>2</td>\n        </tr>\n        <tr>\n            <td>10359729</td>\n            <td></td>\n            <td></td>\n            <td>4</td>\n        </tr>\n    </tbody>\n</table>",
      "text/plain": "+-----------+---------------------------------------------------+------------------------------------------------------------------------------------------------------------------------------------------------------------------------------------------------------------------------------------------------------------------------------------------------------------------------------------------------------------------------------------------------------------------------------------------------------------------------------------------------------------------------------------------------------------------------------------+--------------+\n| _id:>JSON |                        name                       |                                                                                                                                                                                                                                                                                       access                                                                                                                                                                                                                                                                                       | accommodates |\n+-----------+---------------------------------------------------+------------------------------------------------------------------------------------------------------------------------------------------------------------------------------------------------------------------------------------------------------------------------------------------------------------------------------------------------------------------------------------------------------------------------------------------------------------------------------------------------------------------------------------------------------------------------------------+--------------+\n|  10084023 |         City center private room with bed         |                                                                                                                                                                                                                                                      Living Room , Kitchen and Toilet, All cooking equipment can be used too                                                                                                                                                                                                                                                       |      1       |\n|  10527243 |               Tropical Jungle Oasis               |                                                                                                                                                                                                                                                                                                                                                                                                                                                                                                                                                                                    |      4       |\n|  10992286 |         Holoholo Inn: Rain Forest (Priv-2)        |                                                                                                                                                                                                                                                           Guest access to: Common Room with TV; Full Kitchen; Free WiFi.                                                                                                                                                                                                                                                           |      2       |\n|  1176693  |  BEST REVIEWS*BEST MALLS*SAFE STAY*DIMSUM*CWB*MTR | The entire apartment with all amenities is accessible for my guests. All closets are empty but full of hangers, you will find toiletries and hair dryers in the bathrooms. the kitchen is fully equipped with pots, pans, china, glasses and cutlery. Basics like tea, coffee, water, milk, and capsules for the Nespresso Machine are provided to make sure your arrival will be relaxed. Detergents for washing machine and dish washer are provided for a stay of 3 nights. My stand-by guest manager will happily provide more supplies on request for small additional costs. |      8       |\n|  12552675 |         The Porto Concierge - White Martin        |                                                                                                                                                                                                                                                             Guests have access to all the amenities of the apartment.                                                                                                                                                                                                                                                              |      3       |\n|  11007058 |              Alcam Colón 42 Apartment             |                                                                                                                                                                                                                                                                                                                                                                                                                                                                                                                                                                                    |      4       |\n|  12183522 |       so homey and spacious and comfy room!       |                                                                                                                                                                                                                     Easy access to public transport, main road is just across to where building is located. Car park is also available, on hourly to day rate.                                                                                                                                                                                                                     |      3       |\n|  11567997 |          The Local Nook // Cozy Kona Hale         |                                                                                                                                                    The main entrance is to the right through the white gate in front of your parking stall. We ask that guest please enter this way to give our parents and yourselves some extra privacy, though there is another entry door to the left in front of the main house entrance.                                                                                                                                                     |      2       |\n|  13488308 | Spacious & Cosy 1BR apt in Gramercy with balcony! |                                                                                          Guests are provided complete privacy for the duration of their stay, however, in order to ensure a superior guest experience, I am available to address your needs 24 hours a day 7 days a week. If you have a question or concern, I encourage you to contact me by message. I am dedicated to making your stay the best possible, and I am happy to address your needs, whatever they may be.                                                                                           |      2       |\n|  10359729 |                                                   |                                                                                                                                                                                                                                                                                                                                                                                                                                                                                                                                                                                    |      4       |\n+-----------+---------------------------------------------------+------------------------------------------------------------------------------------------------------------------------------------------------------------------------------------------------------------------------------------------------------------------------------------------------------------------------------------------------------------------------------------------------------------------------------------------------------------------------------------------------------------------------------------------------------------------------------------+--------------+"
     },
     "execution_count": 100,
     "metadata": {},
     "output_type": "execute_result"
    }
   ],
   "source": [
    "%%sql\n",
    "Select _id:>JSON ,name, access, accommodates from sample_airbnb.listings limit 10;"
   ]
  },
  {
   "cell_type": "code",
   "execution_count": 101,
   "id": "19c61f92-2294-4190-9b98-a4c96b03bdaf",
   "metadata": {
    "execution": {
     "iopub.execute_input": "2024-02-13T12:48:00.381216Z",
     "iopub.status.busy": "2024-02-13T12:48:00.380975Z",
     "iopub.status.idle": "2024-02-13T12:48:00.567681Z",
     "shell.execute_reply": "2024-02-13T12:48:00.567057Z",
     "shell.execute_reply.started": "2024-02-13T12:48:00.381201Z"
    },
    "language": "sql",
    "trusted": true
   },
   "outputs": [
    {
     "data": {
      "text/html": "<table>\n    <thead>\n        <tr>\n            <th>listingid:>JSON</th>\n            <th>review_scores_accuracy</th>\n            <th>review_scores_cleanliness</th>\n            <th>review_scores_rating</th>\n        </tr>\n    </thead>\n    <tbody>\n        <tr>\n            <td>10084023</td>\n            <td>10</td>\n            <td>8</td>\n            <td>92</td>\n        </tr>\n        <tr>\n            <td>10527243</td>\n            <td>10</td>\n            <td>10</td>\n            <td>96</td>\n        </tr>\n        <tr>\n            <td>11567997</td>\n            <td>10</td>\n            <td>10</td>\n            <td>96</td>\n        </tr>\n        <tr>\n            <td>10992286</td>\n            <td>10</td>\n            <td>10</td>\n            <td>98</td>\n        </tr>\n        <tr>\n            <td>12552675</td>\n            <td>9</td>\n            <td>9</td>\n            <td>90</td>\n        </tr>\n        <tr>\n            <td>12183522</td>\n            <td>10</td>\n            <td>10</td>\n            <td>99</td>\n        </tr>\n        <tr>\n            <td>1176693</td>\n            <td>9</td>\n            <td>9</td>\n            <td>83</td>\n        </tr>\n        <tr>\n            <td>13488308</td>\n            <td>10</td>\n            <td>9</td>\n            <td>97</td>\n        </tr>\n        <tr>\n            <td>11007058</td>\n            <td>6</td>\n            <td>8</td>\n            <td>80</td>\n        </tr>\n        <tr>\n            <td>17001994</td>\n            <td>10</td>\n            <td>9</td>\n            <td>96</td>\n        </tr>\n    </tbody>\n</table>",
      "text/plain": "+-----------------+------------------------+---------------------------+----------------------+\n| listingid:>JSON | review_scores_accuracy | review_scores_cleanliness | review_scores_rating |\n+-----------------+------------------------+---------------------------+----------------------+\n|     10084023    |           10           |             8             |          92          |\n|     10527243    |           10           |             10            |          96          |\n|     11567997    |           10           |             10            |          96          |\n|     10992286    |           10           |             10            |          98          |\n|     12552675    |           9            |             9             |          90          |\n|     12183522    |           10           |             10            |          99          |\n|     1176693     |           9            |             9             |          83          |\n|     13488308    |           10           |             9             |          97          |\n|     11007058    |           6            |             8             |          80          |\n|     17001994    |           10           |             9             |          96          |\n+-----------------+------------------------+---------------------------+----------------------+"
     },
     "execution_count": 101,
     "metadata": {},
     "output_type": "execute_result"
    }
   ],
   "source": [
    "%%sql\n",
    "Select listingid:>JSON, review_scores_accuracy,review_scores_cleanliness, review_scores_rating from sample_airbnb.Reviews limit 10;"
   ]
  },
  {
   "cell_type": "code",
   "execution_count": null,
   "id": "b7aa96ae-19a6-46f1-8bf2-b7f695399f71",
   "metadata": {
    "language": "sql",
    "trusted": true
   },
   "outputs": [],
   "source": []
  }
 ],
 "metadata": {
  "kernelspec": {
   "display_name": "Python 3 (ipykernel)",
   "language": "python",
   "name": "python3"
  },
  "language_info": {
   "codemirror_mode": {
    "name": "ipython",
    "version": 3
   },
   "file_extension": ".py",
   "mimetype": "text/x-python",
   "name": "python",
   "nbconvert_exporter": "python",
   "pygments_lexer": "ipython3",
   "version": "3.11.6"
  },
  "singlestore_cell_default_language": "sql",
  "singlestore_connection": {
   "connectionID": "fc808f27-f8a7-4dd9-ad87-46724e389b14",
   "defaultDatabase": ""
  }
 },
 "nbformat": 4,
 "nbformat_minor": 5
}
