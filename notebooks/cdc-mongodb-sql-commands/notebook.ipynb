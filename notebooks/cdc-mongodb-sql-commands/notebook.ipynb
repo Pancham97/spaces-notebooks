{
 "cells": [
  {
   "attachments": {},
   "cell_type": "markdown",
   "id": "a0efb393-2a46-4833-b5cf-8f048d9695b0",
   "metadata": {},
   "source": [
    "<div id=\"singlestore-header\" style=\"display: flex; background-color: rgba(209, 153, 255, 0.25); padding: 5px;\">\n",
    "    <div id=\"icon-image\" style=\"width: 90px; height: 90px;\">\n",
    "        <img width=\"100%\" height=\"100%\" src=\"https://raw.githubusercontent.com/singlestore-labs/spaces-notebooks/master/common/images/header-icons/notes.png\" />\n",
    "    </div>\n",
    "    <div id=\"text\" style=\"padding: 5px; margin-left: 10px;\">\n",
    "        <h1 style=\"font-weight: 500; margin: 8px 0 0 4px;\">Setup CDC Replication from MongoDB® to SingleStore using SQL commands</h1>\n",
    "    </div>\n",
    "</div>"
   ]
  },
  {
   "attachments": {},
   "cell_type": "markdown",
   "id": "6d2bb122-3ae2-4eab-bbbd-3e3ba6907c4b",
   "metadata": {},
   "source": [
    "<table style=\"border: 0; border-spacing: 0; width: 100%; background-color: #03010D\"><tr>\n",
    "    <td style=\"padding: 0; margin: 0; background-color: #03010D; width: 33%; text-align: center\"><img src=\"https://raw.githubusercontent.com/singlestore-labs/spaces-notebooks/master/common/images/singlestore-logo-vertical.png\" style=\"height: 200px;\"/></td>\n",
    "    <td style=\"padding: 0; margin: 0; width: 66%; background-color: #03010D; text-align: right\"><img src=\"https://raw.githubusercontent.com/singlestore-labs/spaces-notebooks/master/notebooks/cdc-mongodb-sql-commands/images/cdc-in-header.png\" style=\"height: 250px\"/></td>\n",
    "</tr></table>"
   ]
  },
  {
   "attachments": {},
   "cell_type": "markdown",
   "id": "1b895f1f-fd94-4cdf-ac4d-abfad66279a3",
   "metadata": {
    "execution": {
     "iopub.execute_input": "2024-02-12T10:51:35.171286Z",
     "iopub.status.busy": "2024-02-12T10:51:35.171026Z",
     "iopub.status.idle": "2024-02-12T10:51:35.300498Z",
     "shell.execute_reply": "2024-02-12T10:51:35.300042Z",
     "shell.execute_reply.started": "2024-02-12T10:51:35.171268Z"
    },
    "language": "sql"
   },
   "source": [
    "## When do you use SingleStore's native replication capability from MongoDB ? \n",
    "\n",
    "SingleStore's native data replication gives you the ability to do one-time snapshot, or continuous change data capture CDC from MongoDB® to SingleStoreDB. This provides a quick and easy way to replicate data and power up analytics on MongoDB® data."
   ]
  },
  {
   "attachments": {},
   "cell_type": "markdown",
   "id": "9e8e1c02-f723-4e0c-88f3-0adb4dc8b0de",
   "metadata": {},
   "source": [
    "## What you will learn in this notebook:\n",
    "\n",
    "Replicate MongoDB® collections to SingleStore\n",
    "1. Directly without transformations\n",
    "2. Flattening required fields into columns of a table\n",
    "3. Normalizing collection into multiple tables \n"
   ]
  },
  {
   "attachments": {},
   "cell_type": "markdown",
   "id": "4ceef3c0-c804-48c3-9ca0-dcb7f5abfe27",
   "metadata": {},
   "source": [
    "## 1. Replicate directly without transformations\n",
    "\n",
    "To replicate the required collections, provide the list of collections using `\"collection.include.list\": \"<Collection list>\"` at the time of link creation, the parameter takes a comma-separated list of regular expressions that match collection names (in databaseName.collectionName format) "
   ]
  },
  {
   "cell_type": "code",
   "execution_count": 50,
   "id": "49145680-6e52-4af7-b3f9-f39c5aebf2e7",
   "metadata": {
    "execution": {
     "iopub.execute_input": "2024-02-14T12:02:49.855732Z",
     "iopub.status.busy": "2024-02-14T12:02:49.855487Z",
     "iopub.status.idle": "2024-02-14T12:02:57.913745Z",
     "shell.execute_reply": "2024-02-14T12:02:57.912995Z",
     "shell.execute_reply.started": "2024-02-14T12:02:49.855715Z"
    },
    "language": "sql",
    "trusted": true
   },
   "outputs": [
    {
     "data": {
      "text/html": "<table>\n    <thead>\n        <tr>\n        </tr>\n    </thead>\n    <tbody>\n    </tbody>\n</table>",
      "text/plain": "++\n||\n++\n++"
     },
     "execution_count": 50,
     "metadata": {},
     "output_type": "execute_result"
    }
   ],
   "source": [
    "%%sql\n",
    "DROP DATABASE IF EXISTS sample_analytics;\n",
    "CREATE DATABASE sample_analytics;"
   ]
  },
  {
   "attachments": {},
   "cell_type": "markdown",
   "id": "8636d519-fbfb-46fd-a650-d7c157ffb119",
   "metadata": {
    "language": "sql"
   },
   "source": [
    "<div class=\"alert alert-block alert-warning\">\n",
    "    <b class=\"fa fa-solid fa-exclamation-circle\"></b>\n",
    "    <div>\n",
    "        <p><b>Action Required</b></p>\n",
    "        <p> Make sure to select a database from the drop-down menu at the top of this notebook. It updates the <tt>connection_url</tt>  to connect to that database.</p>\n",
    "    </div>\n",
    "</div>"
   ]
  },
  {
   "cell_type": "code",
   "execution_count": 54,
   "id": "a88a0436-9b86-4c34-a4e5-196475049152",
   "metadata": {
    "execution": {
     "iopub.execute_input": "2024-02-14T12:03:17.175027Z",
     "iopub.status.busy": "2024-02-14T12:03:17.174780Z",
     "iopub.status.idle": "2024-02-14T12:03:17.320550Z",
     "shell.execute_reply": "2024-02-14T12:03:17.320071Z",
     "shell.execute_reply.started": "2024-02-14T12:03:17.175010Z"
    },
    "language": "sql",
    "trusted": true
   },
   "outputs": [
    {
     "data": {
      "text/html": "<table>\n    <thead>\n        <tr>\n        </tr>\n    </thead>\n    <tbody>\n    </tbody>\n</table>",
      "text/plain": "++\n||\n++\n++"
     },
     "execution_count": 54,
     "metadata": {},
     "output_type": "execute_result"
    }
   ],
   "source": [
    "%%sql\n",
    "CREATE LINK cdclink AS MONGODB\n",
    "CONFIG '{\"mongodb.hosts\":\"ac-t7n47to-shard-00-00.tfutgo0.mongodb.net:27017,ac-t7n47to-shard-00-01.tfutgo0.mongodb.net:27017,ac-t7n47to-shard-00-02.tfutgo0.mongodb.net:27017\",\n",
    "\"collection.include.list\": \"sample_analytics.customers\",\n",
    "\"mongodb.ssl.enabled\":\"true\",\n",
    "\"mongodb.authsource\":\"admin\",\n",
    "\"mongodb.members.auto.discover\": \"true\"    \n",
    "    }'\n",
    "CREDENTIALS '{\n",
    "    \"mongodb.user\":\"mongo_sample_reader\",\n",
    "    \"mongodb.password\":\"SingleStoreRocks27017\"\n",
    "    }'"
   ]
  },
  {
   "attachments": {},
   "cell_type": "markdown",
   "id": "a0301e3b-c447-440b-9e01-dd771ed13408",
   "metadata": {
    "language": "sql"
   },
   "source": [
    "Check if the link got created"
   ]
  },
  {
   "cell_type": "code",
   "execution_count": 55,
   "id": "9cecea80-2b40-49e9-8882-d97ad01e3b0a",
   "metadata": {
    "execution": {
     "iopub.execute_input": "2024-02-14T12:03:21.926079Z",
     "iopub.status.busy": "2024-02-14T12:03:21.925812Z",
     "iopub.status.idle": "2024-02-14T12:03:22.063417Z",
     "shell.execute_reply": "2024-02-14T12:03:22.062902Z",
     "shell.execute_reply.started": "2024-02-14T12:03:21.926063Z"
    },
    "language": "sql",
    "trusted": true
   },
   "outputs": [
    {
     "data": {
      "text/html": "<table>\n    <thead>\n        <tr>\n            <th>Link</th>\n            <th>Type</th>\n            <th>Description</th>\n        </tr>\n    </thead>\n    <tbody>\n        <tr>\n            <td>cdclink</td>\n            <td>MONGODB</td>\n            <td></td>\n        </tr>\n    </tbody>\n</table>",
      "text/plain": "+---------+---------+-------------+\n|   Link  |   Type  | Description |\n+---------+---------+-------------+\n| cdclink | MONGODB |             |\n+---------+---------+-------------+"
     },
     "execution_count": 55,
     "metadata": {},
     "output_type": "execute_result"
    }
   ],
   "source": [
    "%%sql\n",
    "SHOW LINKS;"
   ]
  },
  {
   "attachments": {},
   "cell_type": "markdown",
   "id": "d757f030-0c5d-4864-aa3d-c8cba84216ce",
   "metadata": {
    "language": "sql"
   },
   "source": [
    "The following step automatically creates the required tables and pipelines on SingleStoreDB for every collection configured for replication"
   ]
  },
  {
   "cell_type": "code",
   "execution_count": 56,
   "id": "356e9f3c-8473-45fa-8918-39c3dfe98403",
   "metadata": {
    "execution": {
     "iopub.execute_input": "2024-02-14T12:03:30.051477Z",
     "iopub.status.busy": "2024-02-14T12:03:30.051189Z",
     "iopub.status.idle": "2024-02-14T12:03:55.378874Z",
     "shell.execute_reply": "2024-02-14T12:03:55.378326Z",
     "shell.execute_reply.started": "2024-02-14T12:03:30.051461Z"
    },
    "language": "sql",
    "trusted": true
   },
   "outputs": [
    {
     "data": {
      "text/html": "<table>\n    <thead>\n        <tr>\n        </tr>\n    </thead>\n    <tbody>\n    </tbody>\n</table>",
      "text/plain": "++\n||\n++\n++"
     },
     "execution_count": 56,
     "metadata": {},
     "output_type": "execute_result"
    }
   ],
   "source": [
    "%%sql\n",
    "CREATE TABLES AS INFER PIPELINE AS LOAD DATA LINK cdclink '*' FORMAT AVRO;"
   ]
  },
  {
   "attachments": {},
   "cell_type": "markdown",
   "id": "6395285d-c68e-49e6-a794-b54f18b53bac",
   "metadata": {
    "language": "sql"
   },
   "source": [
    "Start pipelines to begin replicating the data "
   ]
  },
  {
   "cell_type": "code",
   "execution_count": 57,
   "id": "76795c17-0235-4d21-92be-49c98bfbc5a9",
   "metadata": {
    "execution": {
     "iopub.execute_input": "2024-02-14T12:03:59.234685Z",
     "iopub.status.busy": "2024-02-14T12:03:59.234443Z",
     "iopub.status.idle": "2024-02-14T12:03:59.378140Z",
     "shell.execute_reply": "2024-02-14T12:03:59.377550Z",
     "shell.execute_reply.started": "2024-02-14T12:03:59.234670Z"
    },
    "language": "sql",
    "trusted": true
   },
   "outputs": [
    {
     "data": {
      "text/html": "<table>\n    <thead>\n        <tr>\n        </tr>\n    </thead>\n    <tbody>\n    </tbody>\n</table>",
      "text/plain": "++\n||\n++\n++"
     },
     "execution_count": 57,
     "metadata": {},
     "output_type": "execute_result"
    }
   ],
   "source": [
    "%%sql\n",
    "START ALL PIPELINES;"
   ]
  },
  {
   "cell_type": "code",
   "execution_count": 58,
   "id": "3647b206-7ee6-45d6-9a5c-f0dceabf51e3",
   "metadata": {
    "execution": {
     "iopub.execute_input": "2024-02-14T12:04:01.770261Z",
     "iopub.status.busy": "2024-02-14T12:04:01.770008Z",
     "iopub.status.idle": "2024-02-14T12:04:01.907290Z",
     "shell.execute_reply": "2024-02-14T12:04:01.906810Z",
     "shell.execute_reply.started": "2024-02-14T12:04:01.770245Z"
    },
    "language": "sql",
    "trusted": true
   },
   "outputs": [
    {
     "data": {
      "text/html": "<table>\n    <thead>\n        <tr>\n            <th>Tables_in_sample_analytics</th>\n        </tr>\n    </thead>\n    <tbody>\n        <tr>\n            <td>customers</td>\n        </tr>\n    </tbody>\n</table>",
      "text/plain": "+----------------------------+\n| Tables_in_sample_analytics |\n+----------------------------+\n|         customers          |\n+----------------------------+"
     },
     "execution_count": 58,
     "metadata": {},
     "output_type": "execute_result"
    }
   ],
   "source": [
    "%%sql\n",
    "SHOW TABLES;"
   ]
  },
  {
   "attachments": {},
   "cell_type": "markdown",
   "id": "9f4a5d14-d964-4345-bbea-78a7c8ffa20b",
   "metadata": {
    "language": "sql"
   },
   "source": [
    "The customer collection from MongoDB are replicated into SingleStore in the default format of _id and _more BSON columns that are compatible with Kai API"
   ]
  },
  {
   "cell_type": "code",
   "execution_count": 64,
   "id": "dd29a515-32c3-4079-bcf1-ba6227790082",
   "metadata": {
    "execution": {
     "iopub.execute_input": "2024-02-14T12:04:13.335496Z",
     "iopub.status.busy": "2024-02-14T12:04:13.335248Z",
     "iopub.status.idle": "2024-02-14T12:04:13.466065Z",
     "shell.execute_reply": "2024-02-14T12:04:13.465576Z",
     "shell.execute_reply.started": "2024-02-14T12:04:13.335480Z"
    },
    "language": "sql",
    "scrolled": true,
    "trusted": true
   },
   "outputs": [
    {
     "data": {
      "text/html": "<table>\n    <thead>\n        <tr>\n            <th>(_id :> JSON)</th>\n            <th>(_more :> JSON)</th>\n        </tr>\n    </thead>\n    <tbody>\n        <tr>\n            <td>{'$oid': '5ca4bbcea2dd94ee58162af3'}</td>\n            <td>{'accounts': [929644, 937618, 881424], 'address': '8077 Mendoza Pines\\nWalterfurt, KS 81392', 'birthdate': {'$date': {'$numberLong': '-37139819000'}}, 'email': 'christopher91@hotmail.com', 'name': 'John Guzman', 'tier_and_details': {'400aa61d323a492f9688b99a8ada975c': {'active': True, 'benefits': ['financial planning assistance', 'travel insurance'], 'id': '400aa61d323a492f9688b99a8ada975c', 'tier': 'Silver'}}, 'username': 'edwardszachary'}</td>\n        </tr>\n        <tr>\n            <td>{'$oid': '5ca4bbcea2dd94ee58162b40'}</td>\n            <td>{'accounts': [937558, 141237], 'address': '2381 Brooks Union\\nWest Margaretburgh, NJ 12668', 'birthdate': {'$date': '1970-09-26T09:30:35.000Z'}, 'email': 'anna26@gmail.com', 'name': 'Bryan Huff', 'tier_and_details': {}, 'username': 'fletchernicole'}</td>\n        </tr>\n    </tbody>\n</table>",
      "text/plain": "+--------------------------------------+--------------------------------------------------------------------------------------------------------------------------------------------------------------------------------------------------------------------------------------------------------------------------------------------------------------------------------------------------------------------------------------------------------------------------------------------------------------+\n|            (_id :> JSON)             |                                                                                                                                                                                                                       (_more :> JSON)                                                                                                                                                                                                                        |\n+--------------------------------------+--------------------------------------------------------------------------------------------------------------------------------------------------------------------------------------------------------------------------------------------------------------------------------------------------------------------------------------------------------------------------------------------------------------------------------------------------------------+\n| {'$oid': '5ca4bbcea2dd94ee58162af3'} | {'accounts': [929644, 937618, 881424], 'address': '8077 Mendoza Pines\\nWalterfurt, KS 81392', 'birthdate': {'$date': {'$numberLong': '-37139819000'}}, 'email': 'christopher91@hotmail.com', 'name': 'John Guzman', 'tier_and_details': {'400aa61d323a492f9688b99a8ada975c': {'active': True, 'benefits': ['financial planning assistance', 'travel insurance'], 'id': '400aa61d323a492f9688b99a8ada975c', 'tier': 'Silver'}}, 'username': 'edwardszachary'} |\n| {'$oid': '5ca4bbcea2dd94ee58162b40'} |                                                                                                  {'accounts': [937558, 141237], 'address': '2381 Brooks Union\\nWest Margaretburgh, NJ 12668', 'birthdate': {'$date': '1970-09-26T09:30:35.000Z'}, 'email': 'anna26@gmail.com', 'name': 'Bryan Huff', 'tier_and_details': {}, 'username': 'fletchernicole'}                                                                                                   |\n+--------------------------------------+--------------------------------------------------------------------------------------------------------------------------------------------------------------------------------------------------------------------------------------------------------------------------------------------------------------------------------------------------------------------------------------------------------------------------------------------------------------+"
     },
     "execution_count": 64,
     "metadata": {},
     "output_type": "execute_result"
    }
   ],
   "source": [
    "%%sql\n",
    "SELECT (_id :> JSON),(_more :> JSON) FROM customers LIMIT 2;"
   ]
  },
  {
   "attachments": {},
   "cell_type": "markdown",
   "id": "ecc76eb3-7bd6-4efe-abcd-8989277daa2d",
   "metadata": {},
   "source": [
    "<div id=\"singlestore-footer\" style=\"background-color: rgba(194, 193, 199, 0.25); height:2px; margin-bottom:10px\"></div>\n",
    "<div><img src=\"https://raw.githubusercontent.com/singlestore-labs/spaces-notebooks/master/common/images/singlestore-logo-grey.png\" style=\"padding: 0px; margin: 0px; height: 24px\"/></div>"
   ]
  },
  {
   "attachments": {},
   "cell_type": "markdown",
   "id": "65811b88-919b-4bef-8601-988e324f383c",
   "metadata": {
    "language": "sql"
   },
   "source": [
    "## 2. Flattening required fields from document into columns\n",
    "CDC replication also gives additional flexibility to define your own table structure at SingleStore as you bring in data from MongoDB collections. In the following examples data from MongoDB collections are transformed when brought to SingleStoreDB"
   ]
  },
  {
   "attachments": {},
   "cell_type": "markdown",
   "id": "7fb1effe-85cf-4900-8600-364367c531a8",
   "metadata": {
    "language": "sql"
   },
   "source": [
    "Fields like `username`, `name`, `email` are flattened into columns of the table and rest of the document is stored in _more column.\n",
    "The following commands create a table, a stored procedure and a pipeline required for the data replication "
   ]
  },
  {
   "cell_type": "code",
   "execution_count": 66,
   "id": "a82364bd-a35a-4b1f-b99d-98837f31a16f",
   "metadata": {
    "execution": {
     "iopub.execute_input": "2024-02-14T12:04:39.254939Z",
     "iopub.status.busy": "2024-02-14T12:04:39.254688Z",
     "iopub.status.idle": "2024-02-14T12:04:40.389143Z",
     "shell.execute_reply": "2024-02-14T12:04:40.388643Z",
     "shell.execute_reply.started": "2024-02-14T12:04:39.254922Z"
    },
    "language": "sql",
    "trusted": true
   },
   "outputs": [
    {
     "data": {
      "text/html": "<table>\n    <thead>\n        <tr>\n        </tr>\n    </thead>\n    <tbody>\n    </tbody>\n</table>",
      "text/plain": "++\n||\n++\n++"
     },
     "execution_count": 66,
     "metadata": {},
     "output_type": "execute_result"
    }
   ],
   "source": [
    "%%sql\n",
    "CREATE TABLE `customers_flattened` (\n",
    "  `_id` bson NOT NULL,\n",
    "  `username` text CHARACTER SET utf8 COLLATE utf8_general_ci,\n",
    "  `name` text CHARACTER SET utf8 COLLATE utf8_general_ci,\n",
    "  `email` text CHARACTER SET utf8 COLLATE utf8_general_ci,\n",
    "  `_more` bson NOT NULL COMMENT 'KAI_MORE' ,\n",
    "  `$_id` as BSON_NORMALIZE_NO_ARRAY(`_id`) PERSISTED longblob COMMENT 'KAI_AUTO' ,\n",
    "  SHARD KEY `__SHARDKEY` (`$_id`),\n",
    "  UNIQUE KEY `__PRIMARY` (`$_id`) USING HASH,\n",
    "  SORT KEY `__UNORDERED` ()\n",
    ") "
   ]
  },
  {
   "cell_type": "code",
   "execution_count": 67,
   "id": "1d4b829a-d2ec-46ee-bdc7-b6bc7bb24176",
   "metadata": {
    "execution": {
     "iopub.execute_input": "2024-02-14T12:04:56.861291Z",
     "iopub.status.busy": "2024-02-14T12:04:56.861045Z",
     "iopub.status.idle": "2024-02-14T12:04:57.017759Z",
     "shell.execute_reply": "2024-02-14T12:04:57.017284Z",
     "shell.execute_reply.started": "2024-02-14T12:04:56.861274Z"
    },
    "language": "sql",
    "trusted": true
   },
   "outputs": [
    {
     "data": {
      "text/html": "<table>\n    <thead>\n        <tr>\n        </tr>\n    </thead>\n    <tbody>\n    </tbody>\n</table>",
      "text/plain": "++\n||\n++\n++"
     },
     "execution_count": 67,
     "metadata": {},
     "output_type": "execute_result"
    }
   ],
   "source": [
    "%%sql\n",
    "CREATE OR REPLACE PROCEDURE `customers_apply_changes`(changes query(`__operation` int(11) NOT NULL, `_id` longblob NOT NULL, `_more` longblob NOT NULL))\n",
    "RETURNS void AS \n",
    "DECLARE rowsDeleted INT;\n",
    "BEGIN REPLACE INTO  `sample_analytics`.`customers_flattened` SELECT `_id`:>BSON AS `_id`, BSON_EXTRACT_STRING(`_more`,'username') AS `username`, BSON_EXTRACT_STRING(`_more`,'name') AS `name`, BSON_EXTRACT_STRING(`_more`,'email') AS `email`,\n",
    "BSON_EXCLUDE_MASK(`_more`,'{\"_id\": 1,\"username\": 1,\"name\": 1,\"email\": 1}') AS `_more`FROM changes WHERE __operation != 1;\n",
    "SELECT count(*) INTO rowsDeleted FROM changes WHERE changes.__operation = 1;\n",
    "IF rowsDeleted > 0 THEN\n",
    "DELETE dest FROM `sample_analytics`.`customers_flattened` AS dest INNER JOIN changes ON dest.`$_id` = BSON_NORMALIZE_NO_ARRAY(changes.`_id`) WHERE changes.__operation = 1; END IF;\n",
    "END;"
   ]
  },
  {
   "cell_type": "code",
   "execution_count": 68,
   "id": "f8ea1ec3-e690-4417-af75-bcde15ada610",
   "metadata": {
    "execution": {
     "iopub.execute_input": "2024-02-14T12:05:06.521173Z",
     "iopub.status.busy": "2024-02-14T12:05:06.520902Z",
     "iopub.status.idle": "2024-02-14T12:05:16.664539Z",
     "shell.execute_reply": "2024-02-14T12:05:16.664000Z",
     "shell.execute_reply.started": "2024-02-14T12:05:06.521156Z"
    },
    "language": "sql",
    "trusted": true
   },
   "outputs": [
    {
     "data": {
      "text/html": "<table>\n    <thead>\n        <tr>\n        </tr>\n    </thead>\n    <tbody>\n    </tbody>\n</table>",
      "text/plain": "++\n||\n++\n++"
     },
     "execution_count": 68,
     "metadata": {},
     "output_type": "execute_result"
    }
   ],
   "source": [
    "%%sql\n",
    "CREATE AGGREGATOR PIPELINE `customers_apply_changes`\n",
    "AS LOAD DATA LINK cdclink 'customers'\n",
    "BATCH_INTERVAL 2500\n",
    "MAX_PARTITIONS_PER_BATCH 1\n",
    "DISABLE OFFSETS METADATA GC\n",
    "REPLACE\n",
    "KEY(`_id`)\n",
    "INTO PROCEDURE `customers_apply_changes`\n",
    "FORMAT AVRO\n",
    "(\n",
    "    __operation <- `__operation`,\n",
    "    _id <- `payload`::`_id`,\n",
    "    _more <- `payload`::`_more`\n",
    ")"
   ]
  },
  {
   "cell_type": "code",
   "execution_count": 69,
   "id": "ff3a5285-624a-4d36-86e1-85c2ee92c125",
   "metadata": {
    "execution": {
     "iopub.execute_input": "2024-02-14T12:05:19.620013Z",
     "iopub.status.busy": "2024-02-14T12:05:19.619769Z",
     "iopub.status.idle": "2024-02-14T12:05:19.791201Z",
     "shell.execute_reply": "2024-02-14T12:05:19.790638Z",
     "shell.execute_reply.started": "2024-02-14T12:05:19.619997Z"
    },
    "language": "sql",
    "trusted": true
   },
   "outputs": [
    {
     "data": {
      "text/html": "<table>\n    <thead>\n        <tr>\n        </tr>\n    </thead>\n    <tbody>\n    </tbody>\n</table>",
      "text/plain": "++\n||\n++\n++"
     },
     "execution_count": 69,
     "metadata": {},
     "output_type": "execute_result"
    }
   ],
   "source": [
    "%%sql\n",
    "START ALL PIPELINES;"
   ]
  },
  {
   "cell_type": "code",
   "execution_count": 70,
   "id": "327673e2-dffb-46e0-92f7-b2c73ab137ae",
   "metadata": {
    "execution": {
     "iopub.execute_input": "2024-02-14T12:05:32.139213Z",
     "iopub.status.busy": "2024-02-14T12:05:32.138947Z",
     "iopub.status.idle": "2024-02-14T12:05:32.276260Z",
     "shell.execute_reply": "2024-02-14T12:05:32.275722Z",
     "shell.execute_reply.started": "2024-02-14T12:05:32.139197Z"
    },
    "language": "sql",
    "trusted": true
   },
   "outputs": [
    {
     "data": {
      "text/html": "<table>\n    <thead>\n        <tr>\n            <th>Tables_in_sample_analytics</th>\n        </tr>\n    </thead>\n    <tbody>\n        <tr>\n            <td>customers</td>\n        </tr>\n        <tr>\n            <td>customers_flattened</td>\n        </tr>\n    </tbody>\n</table>",
      "text/plain": "+----------------------------+\n| Tables_in_sample_analytics |\n+----------------------------+\n|         customers          |\n|    customers_flattened     |\n+----------------------------+"
     },
     "execution_count": 70,
     "metadata": {},
     "output_type": "execute_result"
    }
   ],
   "source": [
    "%%sql\n",
    "SHOW TABLES;"
   ]
  },
  {
   "cell_type": "code",
   "execution_count": 72,
   "id": "a5cf5747-55e3-4c13-8c28-34be44b34a4a",
   "metadata": {
    "execution": {
     "iopub.execute_input": "2024-02-14T12:06:09.940411Z",
     "iopub.status.busy": "2024-02-14T12:06:09.940133Z",
     "iopub.status.idle": "2024-02-14T12:06:10.202380Z",
     "shell.execute_reply": "2024-02-14T12:06:10.201797Z",
     "shell.execute_reply.started": "2024-02-14T12:06:09.940394Z"
    },
    "language": "sql",
    "trusted": true
   },
   "outputs": [
    {
     "data": {
      "text/html": "<table>\n    <thead>\n        <tr>\n            <th>_id :> JSON</th>\n            <th>username</th>\n            <th>name</th>\n            <th>email</th>\n            <th>_more :> JSON</th>\n        </tr>\n    </thead>\n    <tbody>\n        <tr>\n            <td>{'$oid': '5ca4bbcea2dd94ee58162b99'}</td>\n            <td>christophercooper</td>\n            <td>Denise Curtis</td>\n            <td>fmoore@hotmail.com</td>\n            <td>{'accounts': [385025, 412109, 201161], 'address': '942 Jennifer Forest\\nWatkinsburgh, MI 96943', 'birthdate': {'$date': '1975-03-06T20:46:53.000Z'}, 'tier_and_details': {'28cf2d66a5944fa8a4c0ac9725ad1b62': {'active': True, 'benefits': ['shopping discounts', 'concert tickets'], 'id': '28cf2d66a5944fa8a4c0ac9725ad1b62', 'tier': 'Silver'}, '921b3281d79d4f818be9906c5fa8e43f': {'active': True, 'benefits': ['travel insurance', 'financial planning assistance'], 'id': '921b3281d79d4f818be9906c5fa8e43f', 'tier': 'Gold'}}}</td>\n        </tr>\n        <tr>\n            <td>{'$oid': '5ca4bbcea2dd94ee58162af5'}</td>\n            <td>xrodriguez</td>\n            <td>Johnathan Reyes</td>\n            <td>wnguyen@gmail.com</td>\n            <td>{'accounts': [354107], 'address': '8294 Hudson Stream Suite 944\\nSamanthafurt, OK 50810', 'birthdate': {'$date': '1972-06-21T09:28:56.000Z'}, 'tier_and_details': {}}</td>\n        </tr>\n        <tr>\n            <td>{'$oid': '5ca4bbcea2dd94ee58162af3'}</td>\n            <td>edwardszachary</td>\n            <td>John Guzman</td>\n            <td>christopher91@hotmail.com</td>\n            <td>{'accounts': [929644, 937618, 881424], 'address': '8077 Mendoza Pines\\nWalterfurt, KS 81392', 'birthdate': {'$date': {'$numberLong': '-37139819000'}}, 'tier_and_details': {'400aa61d323a492f9688b99a8ada975c': {'active': True, 'benefits': ['financial planning assistance', 'travel insurance'], 'id': '400aa61d323a492f9688b99a8ada975c', 'tier': 'Silver'}}}</td>\n        </tr>\n        <tr>\n            <td>{'$oid': '5ca4bbcea2dd94ee58162b40'}</td>\n            <td>fletchernicole</td>\n            <td>Bryan Huff</td>\n            <td>anna26@gmail.com</td>\n            <td>{'accounts': [937558, 141237], 'address': '2381 Brooks Union\\nWest Margaretburgh, NJ 12668', 'birthdate': {'$date': '1970-09-26T09:30:35.000Z'}, 'tier_and_details': {}}</td>\n        </tr>\n        <tr>\n            <td>{'$oid': '5ca4bbcea2dd94ee58162b50'}</td>\n            <td>charlotte30</td>\n            <td>Emily Davidson</td>\n            <td>wintersmorgan@hotmail.com</td>\n            <td>{'accounts': [770262, 759997], 'address': '238 Romero Hollow Apt. 868\\nPort Joshuaville, TX 07164', 'birthdate': {'$date': '1973-01-26T01:24:35.000Z'}, 'tier_and_details': {}}</td>\n        </tr>\n        <tr>\n            <td>{'$oid': '5ca4bbcea2dd94ee58162c2f'}</td>\n            <td>linda08</td>\n            <td>Christopher Smith</td>\n            <td>benjaminmoore@yahoo.com</td>\n            <td>{'accounts': [190959, 520970, 461793, 141474, 805151], 'address': '900 Brett Terrace\\nWest Deborah, WV 45028', 'birthdate': {'$date': '1990-01-25T17:10:29.000Z'}, 'tier_and_details': {'6bf9633c0fa34014b85383ae07619dce': {'active': True, 'benefits': ['24 hour dedicated line', 'shopping discounts'], 'id': '6bf9633c0fa34014b85383ae07619dce', 'tier': 'Gold'}}}</td>\n        </tr>\n        <tr>\n            <td>{'$oid': '5ca4bbcea2dd94ee58162a86'}</td>\n            <td>ethanarias</td>\n            <td>Christopher Watson</td>\n            <td>lscott@gmail.com</td>\n            <td>{'accounts': [884849], 'address': '196 Baker Key\\nNorth Billystad, AL 12800', 'birthdate': {'$date': '1984-07-24T10:14:22.000Z'}, 'tier_and_details': {}}</td>\n        </tr>\n        <tr>\n            <td>{'$oid': '5ca4bbcea2dd94ee58162bb4'}</td>\n            <td>rodney14</td>\n            <td>Jaime Downs</td>\n            <td>stevenlucero@yahoo.com</td>\n            <td>{'accounts': [164260, 266920], 'address': '613 Jamie Canyon\\nCristinashire, AK 36686', 'birthdate': {'$date': '1985-03-11T07:11:53.000Z'}, 'tier_and_details': {'6b99c1ac3c70417daad76d6ea6b72c71': {'active': True, 'benefits': ['car rental insurance'], 'id': '6b99c1ac3c70417daad76d6ea6b72c71', 'tier': 'Silver'}, '874b68cf6712432fb8cdec8b005e0a57': {'active': True, 'benefits': ['financial planning assistance', 'sports tickets'], 'id': '874b68cf6712432fb8cdec8b005e0a57', 'tier': 'Silver'}}}</td>\n        </tr>\n        <tr>\n            <td>{'$oid': '5ca4bbcea2dd94ee58162c2c'}</td>\n            <td>christopherallen</td>\n            <td>Ronald Curry</td>\n            <td>millerbrandy@yahoo.com</td>\n            <td>{'accounts': [448816, 638191], 'address': '59101 Saunders Mountain\\nTravismouth, ID 50827', 'birthdate': {'$date': '1988-03-22T20:34:28.000Z'}, 'tier_and_details': {}}</td>\n        </tr>\n        <tr>\n            <td>{'$oid': '5ca4bbcea2dd94ee58162b31'}</td>\n            <td>wwilson</td>\n            <td>Jonathon Small</td>\n            <td>michael32@hotmail.com</td>\n            <td>{'accounts': [296866, 316726], 'address': '891 Golden Green\\nStephenshire, ND 88063', 'birthdate': {'$date': '1981-08-10T18:21:48.000Z'}, 'tier_and_details': {}}</td>\n        </tr>\n    </tbody>\n</table>",
      "text/plain": "+--------------------------------------+-------------------+--------------------+---------------------------+----------------------------------------------------------------------------------------------------------------------------------------------------------------------------------------------------------------------------------------------------------------------------------------------------------------------------------------------------------------------------------------------------------------------------------------------------------------------------------------------------------------------------------------+\n|             _id :> JSON              |      username     |        name        |           email           |                                                                                                                                                                                                                                                             _more :> JSON                                                                                                                                                                                                                                                              |\n+--------------------------------------+-------------------+--------------------+---------------------------+----------------------------------------------------------------------------------------------------------------------------------------------------------------------------------------------------------------------------------------------------------------------------------------------------------------------------------------------------------------------------------------------------------------------------------------------------------------------------------------------------------------------------------------+\n| {'$oid': '5ca4bbcea2dd94ee58162b99'} | christophercooper |   Denise Curtis    |     fmoore@hotmail.com    | {'accounts': [385025, 412109, 201161], 'address': '942 Jennifer Forest\\nWatkinsburgh, MI 96943', 'birthdate': {'$date': '1975-03-06T20:46:53.000Z'}, 'tier_and_details': {'28cf2d66a5944fa8a4c0ac9725ad1b62': {'active': True, 'benefits': ['shopping discounts', 'concert tickets'], 'id': '28cf2d66a5944fa8a4c0ac9725ad1b62', 'tier': 'Silver'}, '921b3281d79d4f818be9906c5fa8e43f': {'active': True, 'benefits': ['travel insurance', 'financial planning assistance'], 'id': '921b3281d79d4f818be9906c5fa8e43f', 'tier': 'Gold'}}} |\n| {'$oid': '5ca4bbcea2dd94ee58162af5'} |     xrodriguez    |  Johnathan Reyes   |     wnguyen@gmail.com     |                                                                                                                                                                                 {'accounts': [354107], 'address': '8294 Hudson Stream Suite 944\\nSamanthafurt, OK 50810', 'birthdate': {'$date': '1972-06-21T09:28:56.000Z'}, 'tier_and_details': {}}                                                                                                                                                                                  |\n| {'$oid': '5ca4bbcea2dd94ee58162af3'} |   edwardszachary  |    John Guzman     | christopher91@hotmail.com |                                                                                   {'accounts': [929644, 937618, 881424], 'address': '8077 Mendoza Pines\\nWalterfurt, KS 81392', 'birthdate': {'$date': {'$numberLong': '-37139819000'}}, 'tier_and_details': {'400aa61d323a492f9688b99a8ada975c': {'active': True, 'benefits': ['financial planning assistance', 'travel insurance'], 'id': '400aa61d323a492f9688b99a8ada975c', 'tier': 'Silver'}}}                                                                                    |\n| {'$oid': '5ca4bbcea2dd94ee58162b40'} |   fletchernicole  |     Bryan Huff     |      anna26@gmail.com     |                                                                                                                                                                                {'accounts': [937558, 141237], 'address': '2381 Brooks Union\\nWest Margaretburgh, NJ 12668', 'birthdate': {'$date': '1970-09-26T09:30:35.000Z'}, 'tier_and_details': {}}                                                                                                                                                                                |\n| {'$oid': '5ca4bbcea2dd94ee58162b50'} |    charlotte30    |   Emily Davidson   | wintersmorgan@hotmail.com |                                                                                                                                                                            {'accounts': [770262, 759997], 'address': '238 Romero Hollow Apt. 868\\nPort Joshuaville, TX 07164', 'birthdate': {'$date': '1973-01-26T01:24:35.000Z'}, 'tier_and_details': {}}                                                                                                                                                                             |\n| {'$oid': '5ca4bbcea2dd94ee58162c2f'} |      linda08      | Christopher Smith  |  benjaminmoore@yahoo.com  |                                                                                 {'accounts': [190959, 520970, 461793, 141474, 805151], 'address': '900 Brett Terrace\\nWest Deborah, WV 45028', 'birthdate': {'$date': '1990-01-25T17:10:29.000Z'}, 'tier_and_details': {'6bf9633c0fa34014b85383ae07619dce': {'active': True, 'benefits': ['24 hour dedicated line', 'shopping discounts'], 'id': '6bf9633c0fa34014b85383ae07619dce', 'tier': 'Gold'}}}                                                                                 |\n| {'$oid': '5ca4bbcea2dd94ee58162a86'} |     ethanarias    | Christopher Watson |      lscott@gmail.com     |                                                                                                                                                                                       {'accounts': [884849], 'address': '196 Baker Key\\nNorth Billystad, AL 12800', 'birthdate': {'$date': '1984-07-24T10:14:22.000Z'}, 'tier_and_details': {}}                                                                                                                                                                                        |\n| {'$oid': '5ca4bbcea2dd94ee58162bb4'} |      rodney14     |    Jaime Downs     |   stevenlucero@yahoo.com  |              {'accounts': [164260, 266920], 'address': '613 Jamie Canyon\\nCristinashire, AK 36686', 'birthdate': {'$date': '1985-03-11T07:11:53.000Z'}, 'tier_and_details': {'6b99c1ac3c70417daad76d6ea6b72c71': {'active': True, 'benefits': ['car rental insurance'], 'id': '6b99c1ac3c70417daad76d6ea6b72c71', 'tier': 'Silver'}, '874b68cf6712432fb8cdec8b005e0a57': {'active': True, 'benefits': ['financial planning assistance', 'sports tickets'], 'id': '874b68cf6712432fb8cdec8b005e0a57', 'tier': 'Silver'}}}               |\n| {'$oid': '5ca4bbcea2dd94ee58162c2c'} |  christopherallen |    Ronald Curry    |   millerbrandy@yahoo.com  |                                                                                                                                                                                {'accounts': [448816, 638191], 'address': '59101 Saunders Mountain\\nTravismouth, ID 50827', 'birthdate': {'$date': '1988-03-22T20:34:28.000Z'}, 'tier_and_details': {}}                                                                                                                                                                                 |\n| {'$oid': '5ca4bbcea2dd94ee58162b31'} |      wwilson      |   Jonathon Small   |   michael32@hotmail.com   |                                                                                                                                                                                   {'accounts': [296866, 316726], 'address': '891 Golden Green\\nStephenshire, ND 88063', 'birthdate': {'$date': '1981-08-10T18:21:48.000Z'}, 'tier_and_details': {}}                                                                                                                                                                                    |\n+--------------------------------------+-------------------+--------------------+---------------------------+----------------------------------------------------------------------------------------------------------------------------------------------------------------------------------------------------------------------------------------------------------------------------------------------------------------------------------------------------------------------------------------------------------------------------------------------------------------------------------------------------------------------------------------+"
     },
     "execution_count": 72,
     "metadata": {},
     "output_type": "execute_result"
    }
   ],
   "source": [
    "%%sql\n",
    "SELECT _id :> JSON,username, name, email, _more :> JSON FROM customers_flattened LIMIT 10;"
   ]
  },
  {
   "attachments": {},
   "cell_type": "markdown",
   "id": "53a66a38-ddbe-44a7-b768-848793353639",
   "metadata": {
    "language": "sql"
   },
   "source": [
    "## 3. Normalize a collection into multiple tables \n",
    "In the following example a collection of MongoDB is normalized into two different tables on SingleStore."
   ]
  },
  {
   "cell_type": "code",
   "execution_count": 80,
   "id": "57f1594c-aec8-48a5-b0eb-c4574e711276",
   "metadata": {
    "execution": {
     "iopub.execute_input": "2024-02-14T12:07:13.797458Z",
     "iopub.status.busy": "2024-02-14T12:07:13.797192Z",
     "iopub.status.idle": "2024-02-14T12:07:22.208633Z",
     "shell.execute_reply": "2024-02-14T12:07:22.208041Z",
     "shell.execute_reply.started": "2024-02-14T12:07:13.797442Z"
    },
    "language": "sql",
    "trusted": true
   },
   "outputs": [
    {
     "data": {
      "text/html": "<table>\n    <thead>\n        <tr>\n        </tr>\n    </thead>\n    <tbody>\n    </tbody>\n</table>",
      "text/plain": "++\n||\n++\n++"
     },
     "execution_count": 80,
     "metadata": {},
     "output_type": "execute_result"
    }
   ],
   "source": [
    "%%sql\n",
    "DROP DATABASE IF EXISTS sample_airbnb;\n",
    "CREATE DATABASE sample_airbnb;"
   ]
  },
  {
   "attachments": {},
   "cell_type": "markdown",
   "id": "6e55bb14-3304-4ec0-8693-ba9168df43d4",
   "metadata": {
    "language": "sql"
   },
   "source": [
    "<div class=\"alert alert-block alert-warning\">\n",
    "    <b class=\"fa fa-solid fa-exclamation-circle\"></b>\n",
    "    <div>\n",
    "        <p><b>Action Required</b></p>\n",
    "        <p> Make sure to select a database from the drop-down menu at the top of this notebook. It updates the <tt>connection_url</tt>  to connect to that database.</p>\n",
    "    </div>\n",
    "</div>"
   ]
  },
  {
   "cell_type": "code",
   "execution_count": 84,
   "id": "48fa8228-4a39-4553-a535-981b4a42a0a1",
   "metadata": {
    "execution": {
     "iopub.execute_input": "2024-02-14T12:07:35.759534Z",
     "iopub.status.busy": "2024-02-14T12:07:35.759299Z",
     "iopub.status.idle": "2024-02-14T12:07:35.901216Z",
     "shell.execute_reply": "2024-02-14T12:07:35.900558Z",
     "shell.execute_reply.started": "2024-02-14T12:07:35.759517Z"
    },
    "language": "sql",
    "trusted": true
   },
   "outputs": [
    {
     "data": {
      "text/html": "<table>\n    <thead>\n        <tr>\n        </tr>\n    </thead>\n    <tbody>\n    </tbody>\n</table>",
      "text/plain": "++\n||\n++\n++"
     },
     "execution_count": 84,
     "metadata": {},
     "output_type": "execute_result"
    }
   ],
   "source": [
    "%%sql\n",
    "CREATE LINK source_listingsAndReviews AS MONGODB\n",
    "CONFIG '{\"mongodb.hosts\":\"ac-t7n47to-shard-00-00.tfutgo0.mongodb.net:27017,ac-t7n47to-shard-00-01.tfutgo0.mongodb.net:27017,ac-t7n47to-shard-00-02.tfutgo0.mongodb.net:27017\",\n",
    "\"collection.include.list\": \"sample_airbnb.*\",\n",
    "\"mongodb.ssl.enabled\":\"true\",\n",
    "\"mongodb.authsource\":\"admin\",\n",
    "\"mongodb.members.auto.discover\": \"true\"    \n",
    "    }'\n",
    "CREDENTIALS '{\n",
    "    \"mongodb.user\":\"mongo_sample_reader\",\n",
    "    \"mongodb.password\":\"SingleStoreRocks27017\"\n",
    "    }'"
   ]
  },
  {
   "cell_type": "code",
   "execution_count": 85,
   "id": "87580303-6afc-4855-966f-d6a9b8289c2b",
   "metadata": {
    "execution": {
     "iopub.execute_input": "2024-02-14T12:07:41.240121Z",
     "iopub.status.busy": "2024-02-14T12:07:41.239841Z",
     "iopub.status.idle": "2024-02-14T12:07:41.375221Z",
     "shell.execute_reply": "2024-02-14T12:07:41.374732Z",
     "shell.execute_reply.started": "2024-02-14T12:07:41.240104Z"
    },
    "language": "sql",
    "trusted": true
   },
   "outputs": [
    {
     "data": {
      "text/html": "<table>\n    <thead>\n        <tr>\n            <th>Link</th>\n            <th>Type</th>\n            <th>Description</th>\n        </tr>\n    </thead>\n    <tbody>\n        <tr>\n            <td>source_listingsAndReviews</td>\n            <td>MONGODB</td>\n            <td></td>\n        </tr>\n    </tbody>\n</table>",
      "text/plain": "+---------------------------+---------+-------------+\n|            Link           |   Type  | Description |\n+---------------------------+---------+-------------+\n| source_listingsAndReviews | MONGODB |             |\n+---------------------------+---------+-------------+"
     },
     "execution_count": 85,
     "metadata": {},
     "output_type": "execute_result"
    }
   ],
   "source": [
    "%%sql\n",
    "SHOW LINKS;"
   ]
  },
  {
   "cell_type": "code",
   "execution_count": 86,
   "id": "16a917d3-0515-499c-a019-5ac889ca7a37",
   "metadata": {
    "execution": {
     "iopub.execute_input": "2024-02-14T12:07:46.641056Z",
     "iopub.status.busy": "2024-02-14T12:07:46.640624Z",
     "iopub.status.idle": "2024-02-14T12:07:46.965228Z",
     "shell.execute_reply": "2024-02-14T12:07:46.964730Z",
     "shell.execute_reply.started": "2024-02-14T12:07:46.641038Z"
    },
    "language": "sql",
    "trusted": true
   },
   "outputs": [
    {
     "data": {
      "text/html": "<table>\n    <thead>\n        <tr>\n        </tr>\n    </thead>\n    <tbody>\n    </tbody>\n</table>",
      "text/plain": "++\n||\n++\n++"
     },
     "execution_count": 86,
     "metadata": {},
     "output_type": "execute_result"
    }
   ],
   "source": [
    "%%sql\n",
    "CREATE TABLE `listings` (\n",
    "  `_id` BSON NOT NULL,\n",
    "  `name` text CHARACTER SET utf8 COLLATE utf8_general_ci,\n",
    "  `access` text CHARACTER SET utf8 COLLATE utf8_general_ci,\n",
    "  `accommodates` int(11) DEFAULT NULL,\n",
    "  `_more` BSON NOT NULL,\n",
    "  `$_id` as BSON_NORMALIZE_NO_ARRAY(`_id`) PERSISTED longblob,\n",
    "  SHARD KEY `__SHARDKEY` (`$_id`),\n",
    "  UNIQUE KEY `__PRIMARY` (`$_id`) USING HASH,\n",
    "  SORT KEY `__UNORDERED` ()\n",
    ") "
   ]
  },
  {
   "cell_type": "code",
   "execution_count": 87,
   "id": "609e6fe7-194a-48eb-a55e-a9b49b6180f6",
   "metadata": {
    "execution": {
     "iopub.execute_input": "2024-02-14T12:07:54.215600Z",
     "iopub.status.busy": "2024-02-14T12:07:54.215304Z",
     "iopub.status.idle": "2024-02-14T12:07:54.436887Z",
     "shell.execute_reply": "2024-02-14T12:07:54.436312Z",
     "shell.execute_reply.started": "2024-02-14T12:07:54.215583Z"
    },
    "language": "sql",
    "trusted": true
   },
   "outputs": [
    {
     "data": {
      "text/html": "<table>\n    <thead>\n        <tr>\n        </tr>\n    </thead>\n    <tbody>\n    </tbody>\n</table>",
      "text/plain": "++\n||\n++\n++"
     },
     "execution_count": 87,
     "metadata": {},
     "output_type": "execute_result"
    }
   ],
   "source": [
    "%%sql\n",
    "CREATE TABLE `reviews` (\n",
    "  `listingid` BSON NOT NULL,\n",
    "  `review_scores_accuracy` int(11) DEFAULT NULL,\n",
    "  `review_scores_cleanliness` int(11) DEFAULT NULL,\n",
    "  `review_scores_rating` text CHARACTER SET utf8 COLLATE utf8_general_ci,\n",
    "  `$listingid` as BSON_NORMALIZE_NO_ARRAY(`listingid`) PERSISTED longblob,\n",
    "  SHARD KEY `__SHARDKEY` (`$listingid`),\n",
    "  UNIQUE KEY `__PRIMARY` (`$listingid`) USING HASH,\n",
    "  SORT KEY `__UNORDERED` ()\n",
    ") "
   ]
  },
  {
   "cell_type": "code",
   "execution_count": 88,
   "id": "1029b248-a926-4e04-8071-ca7353ed7f4d",
   "metadata": {
    "execution": {
     "iopub.execute_input": "2024-02-14T12:08:11.530564Z",
     "iopub.status.busy": "2024-02-14T12:08:11.530253Z",
     "iopub.status.idle": "2024-02-14T12:08:11.690082Z",
     "shell.execute_reply": "2024-02-14T12:08:11.689625Z",
     "shell.execute_reply.started": "2024-02-14T12:08:11.530547Z"
    },
    "language": "sql",
    "trusted": true
   },
   "outputs": [
    {
     "data": {
      "text/html": "<table>\n    <thead>\n        <tr>\n        </tr>\n    </thead>\n    <tbody>\n    </tbody>\n</table>",
      "text/plain": "++\n||\n++\n++"
     },
     "execution_count": 88,
     "metadata": {},
     "output_type": "execute_result"
    }
   ],
   "source": [
    "%%sql\n",
    "CREATE OR REPLACE PROCEDURE `listingsAndReviews_apply_changes`(changes query(`__operation` int(11) NOT NULL, `_id` longblob NOT NULL, `_more` longblob NOT NULL))\n",
    "RETURNS void AS \n",
    "DECLARE rowsDeleted INT;\n",
    "BEGIN \n",
    "    \n",
    "REPLACE INTO `listings` SELECT `_id`:>BSON AS `_id`, BSON_EXTRACT_STRING(`_more`,'name') AS `name`, BSON_EXTRACT_STRING(`_more`,'access') AS `access`,\n",
    "BSON_EXTRACT_BIGINT(`_more`,'accommodates') AS `accommodates`, BSON_EXCLUDE_MASK(`_more`,'{\"_id\": 1,\"name\": 1,\"review_scores\": 1,\"access\" : 1, \"accommodates\" : 1}') AS `_more`\n",
    "FROM changes WHERE __operation != 1;\n",
    "\n",
    "REPLACE INTO `reviews` SELECT `_id`:>BSON AS `listingid`, BSON_EXTRACT_BIGINT(`_more`,'review_scores','review_scores_accuracy') AS `review_scores_accuracy`,\n",
    "BSON_EXTRACT_BIGINT(`_more`,'review_scores','review_scores_cleanliness') AS `review_scores_cleanliness`, BSON_EXTRACT_BIGINT(`_more`,'review_scores','review_scores_rating') AS `review_scores_rating`\n",
    "FROM changes WHERE __operation != 1;\n",
    "\n",
    "SELECT count(*) INTO rowsDeleted FROM changes WHERE changes.__operation = 1;\n",
    "IF rowsDeleted > 0 THEN\n",
    "DELETE dest FROM `listings` AS dest INNER JOIN changes ON dest.`$_id` = BSON_NORMALIZE_NO_ARRAY(changes.`_id`) WHERE changes.__operation = 1; \n",
    "DELETE dest FROM `reviews` AS dest INNER JOIN changes ON dest.`$listingid` = BSON_NORMALIZE_NO_ARRAY(changes.`_id`) WHERE changes.__operation = 1; \n",
    "END IF;\n",
    "\n",
    "END;"
   ]
  },
  {
   "cell_type": "code",
   "execution_count": 89,
   "id": "e6bfa806-0f4f-4953-9580-6a6f345811e3",
   "metadata": {
    "execution": {
     "iopub.execute_input": "2024-02-14T12:08:17.239877Z",
     "iopub.status.busy": "2024-02-14T12:08:17.239629Z",
     "iopub.status.idle": "2024-02-14T12:08:26.264030Z",
     "shell.execute_reply": "2024-02-14T12:08:26.263285Z",
     "shell.execute_reply.started": "2024-02-14T12:08:17.239861Z"
    },
    "language": "sql",
    "trusted": true
   },
   "outputs": [
    {
     "data": {
      "text/html": "<table>\n    <thead>\n        <tr>\n        </tr>\n    </thead>\n    <tbody>\n    </tbody>\n</table>",
      "text/plain": "++\n||\n++\n++"
     },
     "execution_count": 89,
     "metadata": {},
     "output_type": "execute_result"
    }
   ],
   "source": [
    "%%sql\n",
    "CREATE AGGREGATOR PIPELINE `listingsAndReviews`\n",
    "AS LOAD DATA LINK source_listingsAndReviews 'sample_airbnb.listingsAndReviews'\n",
    "BATCH_INTERVAL 2500\n",
    "MAX_PARTITIONS_PER_BATCH 1\n",
    "DISABLE OFFSETS METADATA GC\n",
    "REPLACE\n",
    "KEY(`_id`)\n",
    "INTO PROCEDURE `listingsAndReviews_apply_changes`\n",
    "FORMAT AVRO\n",
    "(\n",
    "    __operation <- `__operation`,\n",
    "    _id <- `payload`::`_id`,\n",
    "    _more <- `payload`::`_more`\n",
    ")"
   ]
  },
  {
   "cell_type": "code",
   "execution_count": 91,
   "id": "255a27a9-96d6-4cbb-bed8-7c48612c82da",
   "metadata": {
    "execution": {
     "iopub.execute_input": "2024-02-14T12:08:34.123894Z",
     "iopub.status.busy": "2024-02-14T12:08:34.123511Z",
     "iopub.status.idle": "2024-02-14T12:08:34.266291Z",
     "shell.execute_reply": "2024-02-14T12:08:34.265719Z",
     "shell.execute_reply.started": "2024-02-14T12:08:34.123876Z"
    },
    "language": "sql",
    "trusted": true
   },
   "outputs": [
    {
     "data": {
      "text/html": "<table>\n    <thead>\n        <tr>\n        </tr>\n    </thead>\n    <tbody>\n    </tbody>\n</table>",
      "text/plain": "++\n||\n++\n++"
     },
     "execution_count": 91,
     "metadata": {},
     "output_type": "execute_result"
    }
   ],
   "source": [
    "%%sql\n",
    "START ALL PIPELINES;"
   ]
  },
  {
   "cell_type": "code",
   "execution_count": 93,
   "id": "6e23b185-1997-4749-be4c-66612672cb42",
   "metadata": {
    "execution": {
     "iopub.execute_input": "2024-02-14T12:08:47.562158Z",
     "iopub.status.busy": "2024-02-14T12:08:47.561909Z",
     "iopub.status.idle": "2024-02-14T12:08:47.698467Z",
     "shell.execute_reply": "2024-02-14T12:08:47.697954Z",
     "shell.execute_reply.started": "2024-02-14T12:08:47.562142Z"
    },
    "language": "sql",
    "trusted": true
   },
   "outputs": [
    {
     "data": {
      "text/html": "<table>\n    <thead>\n        <tr>\n            <th>Tables_in_sample_airbnb</th>\n        </tr>\n    </thead>\n    <tbody>\n        <tr>\n            <td>listings</td>\n        </tr>\n        <tr>\n            <td>reviews</td>\n        </tr>\n    </tbody>\n</table>",
      "text/plain": "+-------------------------+\n| Tables_in_sample_airbnb |\n+-------------------------+\n|         listings        |\n|         reviews         |\n+-------------------------+"
     },
     "execution_count": 93,
     "metadata": {},
     "output_type": "execute_result"
    }
   ],
   "source": [
    "%%sql\n",
    "SHOW TABLES;"
   ]
  },
  {
   "cell_type": "code",
   "execution_count": 94,
   "id": "64cb77e2-f82b-4147-b632-13f3b944ce8f",
   "metadata": {
    "execution": {
     "iopub.execute_input": "2024-02-14T12:09:05.932415Z",
     "iopub.status.busy": "2024-02-14T12:09:05.932008Z",
     "iopub.status.idle": "2024-02-14T12:09:06.155583Z",
     "shell.execute_reply": "2024-02-14T12:09:06.155004Z",
     "shell.execute_reply.started": "2024-02-14T12:09:05.932398Z"
    },
    "language": "sql",
    "trusted": true
   },
   "outputs": [
    {
     "data": {
      "text/html": "<table>\n    <thead>\n        <tr>\n            <th>_id:>JSON</th>\n            <th>name</th>\n            <th>access</th>\n            <th>accommodates</th>\n        </tr>\n    </thead>\n    <tbody>\n        <tr>\n            <td>10084023</td>\n            <td>City center private room with bed</td>\n            <td>Living Room , Kitchen and Toilet, All cooking equipment can be used too</td>\n            <td>1</td>\n        </tr>\n        <tr>\n            <td>10527243</td>\n            <td>Tropical Jungle Oasis</td>\n            <td></td>\n            <td>4</td>\n        </tr>\n        <tr>\n            <td>10992286</td>\n            <td>Holoholo Inn: Rain Forest (Priv-2)</td>\n            <td>Guest access to: Common Room with TV; Full Kitchen; Free WiFi.</td>\n            <td>2</td>\n        </tr>\n        <tr>\n            <td>11567997</td>\n            <td>The Local Nook // Cozy Kona Hale</td>\n            <td>The main entrance is to the right through the white gate in front of your parking stall. We ask that guest please enter this way to give our parents and yourselves some extra privacy, though there is another entry door to the left in front of the main house entrance.</td>\n            <td>2</td>\n        </tr>\n        <tr>\n            <td>12552675</td>\n            <td>The Porto Concierge - White Martin</td>\n            <td>Guests have access to all the amenities of the apartment.</td>\n            <td>3</td>\n        </tr>\n        <tr>\n            <td>1176693</td>\n            <td>BEST REVIEWS*BEST MALLS*SAFE STAY*DIMSUM*CWB*MTR</td>\n            <td>The entire apartment with all amenities is accessible for my guests. All closets are empty but full of hangers, you will find toiletries and hair dryers in the bathrooms. the kitchen is fully equipped with pots, pans, china, glasses and cutlery. Basics like tea, coffee, water, milk, and capsules for the Nespresso Machine are provided to make sure your arrival will be relaxed. Detergents for washing machine and dish washer are provided for a stay of 3 nights. My stand-by guest manager will happily provide more supplies on request for small additional costs.</td>\n            <td>8</td>\n        </tr>\n        <tr>\n            <td>11007058</td>\n            <td>Alcam Colón 42 Apartment</td>\n            <td></td>\n            <td>4</td>\n        </tr>\n        <tr>\n            <td>12183522</td>\n            <td>so homey and spacious and comfy room!</td>\n            <td>Easy access to public transport, main road is just across to where building is located. Car park is also available, on hourly to day rate.</td>\n            <td>3</td>\n        </tr>\n        <tr>\n            <td>13488308</td>\n            <td>Spacious & Cosy 1BR apt in Gramercy with balcony!</td>\n            <td>Guests are provided complete privacy for the duration of their stay, however, in order to ensure a superior guest experience, I am available to address your needs 24 hours a day 7 days a week. If you have a question or concern, I encourage you to contact me by message. I am dedicated to making your stay the best possible, and I am happy to address your needs, whatever they may be.</td>\n            <td>2</td>\n        </tr>\n        <tr>\n            <td>1719942</td>\n            <td>Studio WBwGG</td>\n            <td>Our guests will have, for their own, a completely independent basement, sharing with us, just the access from the front door. Remark: The ceiling has wood bars on each 1 meter and it's not vey tall; it will not be very comfortable to walk for persons taller than 1.80 mts. The wide and beautiful garden is reached by the basement and, besides we also have acces to it, during guest stays, we will do our best to become invisible. The bathroom is exclusively for the guests.  The sofa-bed is huge and very comfortable. The bar is equipped with fridge, microwave, espresso&capppuccino machine, toaster and sink.  On tv, there dozens of cable channels, pay-per-view access and game console. Wi-fi with internet access is coveres in the full area, including the garden. Also available for use; foosball, drum, guitars, computer, books and magazines.</td>\n            <td>2</td>\n        </tr>\n    </tbody>\n</table>",
      "text/plain": "+-----------+---------------------------------------------------+-------------------------------------------------------------------------------------------------------------------------------------------------------------------------------------------------------------------------------------------------------------------------------------------------------------------------------------------------------------------------------------------------------------------------------------------------------------------------------------------------------------------------------------------------------------------------------------------------------------------------------------------------------------------------------------------------------------------------------------------------------------------------------------------------------------------------------------------------------------------------------+--------------+\n| _id:>JSON |                        name                       |                                                                                                                                                                                                                                                                                                                                                                                                                                     access                                                                                                                                                                                                                                                                                                                                                                                                                                    | accommodates |\n+-----------+---------------------------------------------------+-------------------------------------------------------------------------------------------------------------------------------------------------------------------------------------------------------------------------------------------------------------------------------------------------------------------------------------------------------------------------------------------------------------------------------------------------------------------------------------------------------------------------------------------------------------------------------------------------------------------------------------------------------------------------------------------------------------------------------------------------------------------------------------------------------------------------------------------------------------------------------+--------------+\n|  10084023 |         City center private room with bed         |                                                                                                                                                                                                                                                                                                                                                                                                    Living Room , Kitchen and Toilet, All cooking equipment can be used too                                                                                                                                                                                                                                                                                                                                                                                                    |      1       |\n|  10527243 |               Tropical Jungle Oasis               |                                                                                                                                                                                                                                                                                                                                                                                                                                                                                                                                                                                                                                                                                                                                                                                                                                                                               |      4       |\n|  10992286 |         Holoholo Inn: Rain Forest (Priv-2)        |                                                                                                                                                                                                                                                                                                                                                                                                         Guest access to: Common Room with TV; Full Kitchen; Free WiFi.                                                                                                                                                                                                                                                                                                                                                                                                        |      2       |\n|  11567997 |          The Local Nook // Cozy Kona Hale         |                                                                                                                                                                                                                                                                                                  The main entrance is to the right through the white gate in front of your parking stall. We ask that guest please enter this way to give our parents and yourselves some extra privacy, though there is another entry door to the left in front of the main house entrance.                                                                                                                                                                                                                                                                                                  |      2       |\n|  12552675 |         The Porto Concierge - White Martin        |                                                                                                                                                                                                                                                                                                                                                                                                           Guests have access to all the amenities of the apartment.                                                                                                                                                                                                                                                                                                                                                                                                           |      3       |\n|  1176693  |  BEST REVIEWS*BEST MALLS*SAFE STAY*DIMSUM*CWB*MTR |                                                                                                                                               The entire apartment with all amenities is accessible for my guests. All closets are empty but full of hangers, you will find toiletries and hair dryers in the bathrooms. the kitchen is fully equipped with pots, pans, china, glasses and cutlery. Basics like tea, coffee, water, milk, and capsules for the Nespresso Machine are provided to make sure your arrival will be relaxed. Detergents for washing machine and dish washer are provided for a stay of 3 nights. My stand-by guest manager will happily provide more supplies on request for small additional costs.                                                                                                                                              |      8       |\n|  11007058 |              Alcam Colón 42 Apartment             |                                                                                                                                                                                                                                                                                                                                                                                                                                                                                                                                                                                                                                                                                                                                                                                                                                                                               |      4       |\n|  12183522 |       so homey and spacious and comfy room!       |                                                                                                                                                                                                                                                                                                                                                                   Easy access to public transport, main road is just across to where building is located. Car park is also available, on hourly to day rate.                                                                                                                                                                                                                                                                                                                                                                  |      3       |\n|  13488308 | Spacious & Cosy 1BR apt in Gramercy with balcony! |                                                                                                                                                                                                                                        Guests are provided complete privacy for the duration of their stay, however, in order to ensure a superior guest experience, I am available to address your needs 24 hours a day 7 days a week. If you have a question or concern, I encourage you to contact me by message. I am dedicated to making your stay the best possible, and I am happy to address your needs, whatever they may be.                                                                                                                                                                                                                                        |      2       |\n|  1719942  |                    Studio WBwGG                   | Our guests will have, for their own, a completely independent basement, sharing with us, just the access from the front door. Remark: The ceiling has wood bars on each 1 meter and it's not vey tall; it will not be very comfortable to walk for persons taller than 1.80 mts. The wide and beautiful garden is reached by the basement and, besides we also have acces to it, during guest stays, we will do our best to become invisible. The bathroom is exclusively for the guests.  The sofa-bed is huge and very comfortable. The bar is equipped with fridge, microwave, espresso&capppuccino machine, toaster and sink.  On tv, there dozens of cable channels, pay-per-view access and game console. Wi-fi with internet access is coveres in the full area, including the garden. Also available for use; foosball, drum, guitars, computer, books and magazines. |      2       |\n+-----------+---------------------------------------------------+-------------------------------------------------------------------------------------------------------------------------------------------------------------------------------------------------------------------------------------------------------------------------------------------------------------------------------------------------------------------------------------------------------------------------------------------------------------------------------------------------------------------------------------------------------------------------------------------------------------------------------------------------------------------------------------------------------------------------------------------------------------------------------------------------------------------------------------------------------------------------------+--------------+"
     },
     "execution_count": 94,
     "metadata": {},
     "output_type": "execute_result"
    }
   ],
   "source": [
    "%%sql\n",
    "SELECT _id:>JSON ,name, access, accommodates FROM listings LIMIT 10;"
   ]
  },
  {
   "cell_type": "code",
   "execution_count": 96,
   "id": "19c61f92-2294-4190-9b98-a4c96b03bdaf",
   "metadata": {
    "execution": {
     "iopub.execute_input": "2024-02-14T12:09:25.923588Z",
     "iopub.status.busy": "2024-02-14T12:09:25.923335Z",
     "iopub.status.idle": "2024-02-14T12:09:26.155398Z",
     "shell.execute_reply": "2024-02-14T12:09:26.154883Z",
     "shell.execute_reply.started": "2024-02-14T12:09:25.923572Z"
    },
    "language": "sql",
    "trusted": true
   },
   "outputs": [
    {
     "data": {
      "text/html": "<table>\n    <thead>\n        <tr>\n            <th>listingid:>JSON</th>\n            <th>review_scores_accuracy</th>\n            <th>review_scores_cleanliness</th>\n            <th>review_scores_rating</th>\n        </tr>\n    </thead>\n    <tbody>\n        <tr>\n            <td>32528492</td>\n            <td>None</td>\n            <td>None</td>\n            <td>None</td>\n        </tr>\n        <tr>\n            <td>31913927</td>\n            <td>None</td>\n            <td>None</td>\n            <td>None</td>\n        </tr>\n        <tr>\n            <td>32338886</td>\n            <td>None</td>\n            <td>None</td>\n            <td>None</td>\n        </tr>\n        <tr>\n            <td>5814254</td>\n            <td>10</td>\n            <td>10</td>\n            <td>98</td>\n        </tr>\n        <tr>\n            <td>5923031</td>\n            <td>10</td>\n            <td>10</td>\n            <td>98</td>\n        </tr>\n        <tr>\n            <td>32481559</td>\n            <td>10</td>\n            <td>10</td>\n            <td>100</td>\n        </tr>\n        <tr>\n            <td>4373803</td>\n            <td>None</td>\n            <td>None</td>\n            <td>None</td>\n        </tr>\n        <tr>\n            <td>31302323</td>\n            <td>None</td>\n            <td>None</td>\n            <td>None</td>\n        </tr>\n        <tr>\n            <td>961596</td>\n            <td>9</td>\n            <td>9</td>\n            <td>92</td>\n        </tr>\n        <tr>\n            <td>8358372</td>\n            <td>10</td>\n            <td>10</td>\n            <td>90</td>\n        </tr>\n    </tbody>\n</table>",
      "text/plain": "+-----------------+------------------------+---------------------------+----------------------+\n| listingid:>JSON | review_scores_accuracy | review_scores_cleanliness | review_scores_rating |\n+-----------------+------------------------+---------------------------+----------------------+\n|     32528492    |          None          |            None           |         None         |\n|     31913927    |          None          |            None           |         None         |\n|     32338886    |          None          |            None           |         None         |\n|     5814254     |           10           |             10            |          98          |\n|     5923031     |           10           |             10            |          98          |\n|     32481559    |           10           |             10            |         100          |\n|     4373803     |          None          |            None           |         None         |\n|     31302323    |          None          |            None           |         None         |\n|      961596     |           9            |             9             |          92          |\n|     8358372     |           10           |             10            |          90          |\n+-----------------+------------------------+---------------------------+----------------------+"
     },
     "execution_count": 96,
     "metadata": {},
     "output_type": "execute_result"
    }
   ],
   "source": [
    "%%sql\n",
    "SELECT listingid:>JSON, review_scores_accuracy,review_scores_cleanliness, review_scores_rating FROM reviews LIMIT 10;"
   ]
  },
  {
   "cell_type": "code",
   "execution_count": null,
   "id": "b7aa96ae-19a6-46f1-8bf2-b7f695399f71",
   "metadata": {
    "language": "sql",
    "trusted": true
   },
   "outputs": [],
   "source": []
  }
 ],
 "metadata": {
  "kernelspec": {
   "display_name": "Python 3 (ipykernel)",
   "language": "python",
   "name": "python3"
  },
  "language_info": {
   "codemirror_mode": {
    "name": "ipython",
    "version": 3
   },
   "file_extension": ".py",
   "mimetype": "text/x-python",
   "name": "python",
   "nbconvert_exporter": "python",
   "pygments_lexer": "ipython3",
   "version": "3.11.6"
  },
  "singlestore_cell_default_language": "sql",
  "singlestore_connection": {
   "connectionID": "9e60f6ba-6bd4-4fc8-9390-e1569ab4d33e",
   "defaultDatabase": "sample_airbnb"
  }
 },
 "nbformat": 4,
 "nbformat_minor": 5
}
